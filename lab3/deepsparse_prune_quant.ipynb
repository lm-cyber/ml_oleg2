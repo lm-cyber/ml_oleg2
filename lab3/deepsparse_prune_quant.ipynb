{
 "cells": [
  {
   "cell_type": "code",
   "execution_count": 2,
   "id": "3c3127b8-2bc0-48d4-a141-cace62b3314b",
   "metadata": {},
   "outputs": [
    {
     "name": "stdout",
     "output_type": "stream",
     "text": [
      "best_openvino_model\t\t\t   deepsparse_prune_quant.ipynb\n",
      "best_opset13.onnx\t\t\t   detect4\n",
      "best_opset19.onnx\t\t\t   lab3_py3.11.ipynb\n",
      "best_prune_75_quantized_int4_opset13.onnx  onnx_quant_prune.ipynb\n",
      "best_prune_75_quantized_int8_opset13.onnx  prune_.ipynb\n",
      "best_prune_opset13.onnx\t\t\t   runs\n",
      "best_prune.pt\t\t\t\t   Untitled.ipynb\n",
      "best.pt\n"
     ]
    }
   ],
   "source": [
    "!ls"
   ]
  },
  {
   "cell_type": "code",
   "execution_count": 3,
   "id": "4d64fb41-3616-4d7f-bf79-c31b455f9b40",
   "metadata": {},
   "outputs": [],
   "source": [
    "from deepsparse import Pipeline\n",
    "\n",
    "# Specify the path to your YOLO11 ONNX model\n",
    "model_path_prune_int4 = \"best_prune_75_quantized_int4_opset13.onnx\"\n",
    "model_path_prune_int8 = \"best_prune_75_quantized_int8_opset13.onnx\"\n",
    "model_path_prune = 'best_prune_opset13.onnx'\n",
    "model_path = \"best_opset13.onnx\"\n",
    "\n"
   ]
  },
  {
   "cell_type": "code",
   "execution_count": 4,
   "id": "254c05d7-7ed7-4e19-af98-ed811fd2a44b",
   "metadata": {},
   "outputs": [
    {
     "name": "stderr",
     "output_type": "stream",
     "text": [
      "2024-12-15 08:28:50 deepsparse.pipeline WARNING  Could not create v2 'yolov8' pipeline, trying legacy\n",
      "DeepSparse, Copyright 2021-present / Neuralmagic, Inc. version: 1.8.0 COMMUNITY | (e3778e93) (release) (optimized) (system=avx2, binary=avx2)\n",
      "2024-12-15 08:28:54 deepsparse.pipeline WARNING  Could not create v2 'yolov8' pipeline, trying legacy\n",
      "[nm_ort 7d69301dfb80 >ERROR< init src/libdeepsparse/ort_engine/ort_engine.cpp:541] std exception  Failed to load model with error: Invalid tensor data type 21.\n",
      "\n"
     ]
    },
    {
     "ename": "RuntimeError",
     "evalue": "NM: error: Failed to load model with error: Invalid tensor data type 21.",
     "output_type": "error",
     "traceback": [
      "\u001b[0;31m---------------------------------------------------------------------------\u001b[0m",
      "\u001b[0;31mValueError\u001b[0m                                Traceback (most recent call last)",
      "File \u001b[0;32m~/allinfo_new/venv3.11/venv/lib/python3.11/site-packages/deepsparse/pipeline.py:140\u001b[0m, in \u001b[0;36mPipeline.create\u001b[0;34m(cls, task, **kwargs)\u001b[0m\n\u001b[1;32m    138\u001b[0m     new_kwargs[\u001b[38;5;124m\"\u001b[39m\u001b[38;5;124mmodel_path\u001b[39m\u001b[38;5;124m\"\u001b[39m] \u001b[38;5;241m=\u001b[39m model\n\u001b[0;32m--> 140\u001b[0m pipeline \u001b[38;5;241m=\u001b[39m \u001b[43mOperator\u001b[49m\u001b[38;5;241;43m.\u001b[39;49m\u001b[43mcreate\u001b[49m\u001b[43m(\u001b[49m\u001b[43mtask\u001b[49m\u001b[38;5;241;43m=\u001b[39;49m\u001b[43mtask\u001b[49m\u001b[43m,\u001b[49m\u001b[43m \u001b[49m\u001b[38;5;241;43m*\u001b[39;49m\u001b[38;5;241;43m*\u001b[39;49m\u001b[43mnew_kwargs\u001b[49m\u001b[43m)\u001b[49m\n\u001b[1;32m    141\u001b[0m \u001b[38;5;28;01mif\u001b[39;00m \u001b[38;5;129;01mnot\u001b[39;00m \u001b[38;5;28misinstance\u001b[39m(pipeline, \u001b[38;5;28mcls\u001b[39m):\n",
      "File \u001b[0;32m~/allinfo_new/venv3.11/venv/lib/python3.11/site-packages/deepsparse/operators/operator.py:134\u001b[0m, in \u001b[0;36mOperator.create\u001b[0;34m(cls, task, **kwargs)\u001b[0m\n\u001b[1;32m    133\u001b[0m \u001b[38;5;28;01mtry\u001b[39;00m:\n\u001b[0;32m--> 134\u001b[0m     operator_constructor \u001b[38;5;241m=\u001b[39m \u001b[43mOperatorRegistry\u001b[49m\u001b[38;5;241;43m.\u001b[39;49m\u001b[43mget_task_constructor\u001b[49m\u001b[43m(\u001b[49m\u001b[43mtask\u001b[49m\u001b[43m)\u001b[49m\n\u001b[1;32m    135\u001b[0m \u001b[38;5;28;01mexcept\u001b[39;00m \u001b[38;5;167;01mException\u001b[39;00m:\n",
      "File \u001b[0;32m~/allinfo_new/venv3.11/venv/lib/python3.11/site-packages/deepsparse/operators/registry.py:72\u001b[0m, in \u001b[0;36mOperatorRegistry.get_task_constructor\u001b[0;34m(cls, task)\u001b[0m\n\u001b[1;32m     71\u001b[0m \u001b[38;5;28;01mtry\u001b[39;00m:\n\u001b[0;32m---> 72\u001b[0m     \u001b[43mSupportedTasks\u001b[49m\u001b[38;5;241;43m.\u001b[39;49m\u001b[43mcheck_register_task\u001b[49m\u001b[43m(\u001b[49m\u001b[43mtask\u001b[49m\u001b[43m,\u001b[49m\u001b[43m \u001b[49m\u001b[43mtasks\u001b[49m\u001b[43m)\u001b[49m\n\u001b[1;32m     73\u001b[0m \u001b[38;5;28;01mexcept\u001b[39;00m \u001b[38;5;167;01mException\u001b[39;00m:\n",
      "File \u001b[0;32m~/allinfo_new/venv3.11/venv/lib/python3.11/site-packages/deepsparse/tasks.py:129\u001b[0m, in \u001b[0;36mSupportedTasks.check_register_task\u001b[0;34m(cls, task, extra_tasks)\u001b[0m\n\u001b[1;32m    128\u001b[0m \u001b[38;5;28;01mif\u001b[39;00m task \u001b[38;5;129;01mnot\u001b[39;00m \u001b[38;5;129;01min\u001b[39;00m all_tasks:\n\u001b[0;32m--> 129\u001b[0m     \u001b[38;5;28;01mraise\u001b[39;00m \u001b[38;5;167;01mValueError\u001b[39;00m(\n\u001b[1;32m    130\u001b[0m         \u001b[38;5;124mf\u001b[39m\u001b[38;5;124m\"\u001b[39m\u001b[38;5;124mUnknown Pipeline task \u001b[39m\u001b[38;5;132;01m{\u001b[39;00mtask\u001b[38;5;132;01m}\u001b[39;00m\u001b[38;5;124m. Currently supported tasks are \u001b[39m\u001b[38;5;124m\"\u001b[39m\n\u001b[1;32m    131\u001b[0m         \u001b[38;5;124mf\u001b[39m\u001b[38;5;124m\"\u001b[39m\u001b[38;5;132;01m{\u001b[39;00m\u001b[38;5;28mlist\u001b[39m(all_tasks)\u001b[38;5;132;01m}\u001b[39;00m\u001b[38;5;124m\"\u001b[39m\n\u001b[1;32m    132\u001b[0m     )\n",
      "\u001b[0;31mValueError\u001b[0m: Unknown Pipeline task yolov8. Currently supported tasks are ['codegen', 'image_classification', 'opt', 'mpt', 'code_gen', 'llama', 'code_generation', 'text_generation']",
      "\nDuring handling of the above exception, another exception occurred:\n",
      "\u001b[0;31mRuntimeError\u001b[0m                              Traceback (most recent call last)",
      "Cell \u001b[0;32mIn[4], line 2\u001b[0m\n\u001b[1;32m      1\u001b[0m yolo_pipeline \u001b[38;5;241m=\u001b[39m Pipeline\u001b[38;5;241m.\u001b[39mcreate(task\u001b[38;5;241m=\u001b[39m\u001b[38;5;124m\"\u001b[39m\u001b[38;5;124myolov8\u001b[39m\u001b[38;5;124m\"\u001b[39m, model_path\u001b[38;5;241m=\u001b[39mmodel_path)\n\u001b[0;32m----> 2\u001b[0m yolo_pipeline_prune_int4 \u001b[38;5;241m=\u001b[39m \u001b[43mPipeline\u001b[49m\u001b[38;5;241;43m.\u001b[39;49m\u001b[43mcreate\u001b[49m\u001b[43m(\u001b[49m\u001b[43mtask\u001b[49m\u001b[38;5;241;43m=\u001b[39;49m\u001b[38;5;124;43m\"\u001b[39;49m\u001b[38;5;124;43myolov8\u001b[39;49m\u001b[38;5;124;43m\"\u001b[39;49m\u001b[43m,\u001b[49m\u001b[43m \u001b[49m\u001b[43mmodel_path\u001b[49m\u001b[38;5;241;43m=\u001b[39;49m\u001b[43mmodel_path_prune_int4\u001b[49m\u001b[43m)\u001b[49m\n\u001b[1;32m      3\u001b[0m yolo_pipeline_prune_int8 \u001b[38;5;241m=\u001b[39m Pipeline\u001b[38;5;241m.\u001b[39mcreate(task\u001b[38;5;241m=\u001b[39m\u001b[38;5;124m\"\u001b[39m\u001b[38;5;124myolov8\u001b[39m\u001b[38;5;124m\"\u001b[39m, model_path\u001b[38;5;241m=\u001b[39mmodel_path_prune_int8)\n\u001b[1;32m      4\u001b[0m yolo_pipeline_prune \u001b[38;5;241m=\u001b[39m Pipeline\u001b[38;5;241m.\u001b[39mcreate(task\u001b[38;5;241m=\u001b[39m\u001b[38;5;124m\"\u001b[39m\u001b[38;5;124myolov8\u001b[39m\u001b[38;5;124m\"\u001b[39m, model_path\u001b[38;5;241m=\u001b[39mmodel_path_prune)\n",
      "File \u001b[0;32m~/allinfo_new/venv3.11/venv/lib/python3.11/site-packages/deepsparse/pipeline.py:153\u001b[0m, in \u001b[0;36mPipeline.create\u001b[0;34m(cls, task, **kwargs)\u001b[0m\n\u001b[1;32m    150\u001b[0m     _LOGGER\u001b[38;5;241m.\u001b[39mwarning(\u001b[38;5;124mf\u001b[39m\u001b[38;5;124m\"\u001b[39m\u001b[38;5;124mCould not create v2 \u001b[39m\u001b[38;5;124m'\u001b[39m\u001b[38;5;132;01m{\u001b[39;00mtask\u001b[38;5;132;01m}\u001b[39;00m\u001b[38;5;124m'\u001b[39m\u001b[38;5;124m pipeline, trying legacy\u001b[39m\u001b[38;5;124m\"\u001b[39m)\n\u001b[1;32m    151\u001b[0m     \u001b[38;5;28;01mfrom\u001b[39;00m \u001b[38;5;21;01mdeepsparse\u001b[39;00m\u001b[38;5;21;01m.\u001b[39;00m\u001b[38;5;21;01mlegacy\u001b[39;00m \u001b[38;5;28;01mimport\u001b[39;00m Pipeline\n\u001b[0;32m--> 153\u001b[0m     pipeline \u001b[38;5;241m=\u001b[39m \u001b[43mPipeline\u001b[49m\u001b[38;5;241;43m.\u001b[39;49m\u001b[43mcreate\u001b[49m\u001b[43m(\u001b[49m\u001b[43mtask\u001b[49m\u001b[38;5;241;43m=\u001b[39;49m\u001b[43mtask\u001b[49m\u001b[43m,\u001b[49m\u001b[43m \u001b[49m\u001b[38;5;241;43m*\u001b[39;49m\u001b[38;5;241;43m*\u001b[39;49m\u001b[43mkwargs\u001b[49m\u001b[43m)\u001b[49m\n\u001b[1;32m    154\u001b[0m \u001b[38;5;28;01mreturn\u001b[39;00m pipeline\n",
      "File \u001b[0;32m~/allinfo_new/venv3.11/venv/lib/python3.11/site-packages/deepsparse/legacy/base_pipeline.py:210\u001b[0m, in \u001b[0;36mBasePipeline.create\u001b[0;34m(task, **kwargs)\u001b[0m\n\u001b[1;32m    204\u001b[0m     buckets \u001b[38;5;241m=\u001b[39m pipeline_constructor\u001b[38;5;241m.\u001b[39mcreate_pipeline_buckets(\n\u001b[1;32m    205\u001b[0m         task\u001b[38;5;241m=\u001b[39mtask,\n\u001b[1;32m    206\u001b[0m         \u001b[38;5;241m*\u001b[39m\u001b[38;5;241m*\u001b[39mkwargs,\n\u001b[1;32m    207\u001b[0m     )\n\u001b[1;32m    208\u001b[0m     \u001b[38;5;28;01mreturn\u001b[39;00m BucketingPipeline(pipelines\u001b[38;5;241m=\u001b[39mbuckets)\n\u001b[0;32m--> 210\u001b[0m \u001b[38;5;28;01mreturn\u001b[39;00m \u001b[43mpipeline_constructor\u001b[49m\u001b[43m(\u001b[49m\u001b[38;5;241;43m*\u001b[39;49m\u001b[38;5;241;43m*\u001b[39;49m\u001b[43mkwargs\u001b[49m\u001b[43m)\u001b[49m\n",
      "File \u001b[0;32m~/allinfo_new/venv3.11/venv/lib/python3.11/site-packages/deepsparse/yolov8/pipelines.py:56\u001b[0m, in \u001b[0;36mYOLOv8Pipeline.__init__\u001b[0;34m(self, subtask, nms_function, **kwargs)\u001b[0m\n\u001b[1;32m     54\u001b[0m \u001b[38;5;28mself\u001b[39m\u001b[38;5;241m.\u001b[39msubtask \u001b[38;5;241m=\u001b[39m subtask\n\u001b[1;32m     55\u001b[0m \u001b[38;5;28mself\u001b[39m\u001b[38;5;241m.\u001b[39mnms_function \u001b[38;5;241m=\u001b[39m nms_function\n\u001b[0;32m---> 56\u001b[0m \u001b[38;5;28;43msuper\u001b[39;49m\u001b[43m(\u001b[49m\u001b[43m)\u001b[49m\u001b[38;5;241;43m.\u001b[39;49m\u001b[38;5;21;43m__init__\u001b[39;49m\u001b[43m(\u001b[49m\u001b[43mnms_function\u001b[49m\u001b[38;5;241;43m=\u001b[39;49m\u001b[43mnms_function\u001b[49m\u001b[43m,\u001b[49m\u001b[43m \u001b[49m\u001b[38;5;241;43m*\u001b[39;49m\u001b[38;5;241;43m*\u001b[39;49m\u001b[43mkwargs\u001b[49m\u001b[43m)\u001b[49m\n",
      "File \u001b[0;32m~/allinfo_new/venv3.11/venv/lib/python3.11/site-packages/deepsparse/yolo/pipelines.py:92\u001b[0m, in \u001b[0;36mYOLOPipeline.__init__\u001b[0;34m(self, class_names, model_config, image_size, nms_function, **kwargs)\u001b[0m\n\u001b[1;32m     89\u001b[0m \u001b[38;5;28mself\u001b[39m\u001b[38;5;241m.\u001b[39mnms_function \u001b[38;5;241m=\u001b[39m nms_function\n\u001b[1;32m     90\u001b[0m \u001b[38;5;28mself\u001b[39m\u001b[38;5;241m.\u001b[39m_onnx_temp_file \u001b[38;5;241m=\u001b[39m \u001b[38;5;28;01mNone\u001b[39;00m  \u001b[38;5;66;03m# placeholder for potential tmpfile reference\u001b[39;00m\n\u001b[0;32m---> 92\u001b[0m \u001b[38;5;28;43msuper\u001b[39;49m\u001b[43m(\u001b[49m\u001b[43m)\u001b[49m\u001b[38;5;241;43m.\u001b[39;49m\u001b[38;5;21;43m__init__\u001b[39;49m\u001b[43m(\u001b[49m\n\u001b[1;32m     93\u001b[0m \u001b[43m    \u001b[49m\u001b[38;5;241;43m*\u001b[39;49m\u001b[38;5;241;43m*\u001b[39;49m\u001b[43mkwargs\u001b[49m\u001b[43m,\u001b[49m\n\u001b[1;32m     94\u001b[0m \u001b[43m\u001b[49m\u001b[43m)\u001b[49m\n\u001b[1;32m     96\u001b[0m \u001b[38;5;28;01mif\u001b[39;00m \u001b[38;5;28misinstance\u001b[39m(class_names, \u001b[38;5;28mstr\u001b[39m):\n\u001b[1;32m     97\u001b[0m     \u001b[38;5;28;01mif\u001b[39;00m class_names\u001b[38;5;241m.\u001b[39mendswith(\u001b[38;5;124m\"\u001b[39m\u001b[38;5;124m.json\u001b[39m\u001b[38;5;124m\"\u001b[39m):\n",
      "File \u001b[0;32m~/allinfo_new/venv3.11/venv/lib/python3.11/site-packages/deepsparse/legacy/pipeline.py:208\u001b[0m, in \u001b[0;36mPipeline.__init__\u001b[0;34m(self, model_path, engine_type, batch_size, num_cores, num_streams, scheduler, input_shapes, context, executor, benchmark, _delay_engine_initialize, **kwargs)\u001b[0m\n\u001b[1;32m    206\u001b[0m     \u001b[38;5;28mself\u001b[39m\u001b[38;5;241m.\u001b[39mengine \u001b[38;5;241m=\u001b[39m \u001b[38;5;28;01mNone\u001b[39;00m\n\u001b[1;32m    207\u001b[0m \u001b[38;5;28;01melse\u001b[39;00m:\n\u001b[0;32m--> 208\u001b[0m     \u001b[38;5;28mself\u001b[39m\u001b[38;5;241m.\u001b[39mengine \u001b[38;5;241m=\u001b[39m \u001b[38;5;28;43mself\u001b[39;49m\u001b[38;5;241;43m.\u001b[39;49m\u001b[43m_initialize_engine\u001b[49m\u001b[43m(\u001b[49m\u001b[43m)\u001b[49m\n\u001b[1;32m    209\u001b[0m \u001b[38;5;28mself\u001b[39m\u001b[38;5;241m.\u001b[39m_batch_size \u001b[38;5;241m=\u001b[39m \u001b[38;5;28mself\u001b[39m\u001b[38;5;241m.\u001b[39m_batch_size \u001b[38;5;129;01mor\u001b[39;00m \u001b[38;5;241m1\u001b[39m\n\u001b[1;32m    211\u001b[0m \u001b[38;5;28mself\u001b[39m\u001b[38;5;241m.\u001b[39mlog(\n\u001b[1;32m    212\u001b[0m     identifier\u001b[38;5;241m=\u001b[39m\u001b[38;5;124mf\u001b[39m\u001b[38;5;124m\"\u001b[39m\u001b[38;5;132;01m{\u001b[39;00mSystemGroups\u001b[38;5;241m.\u001b[39mINFERENCE_DETAILS\u001b[38;5;132;01m}\u001b[39;00m\u001b[38;5;124m/num_cores_total\u001b[39m\u001b[38;5;124m\"\u001b[39m,\n\u001b[1;32m    213\u001b[0m     value\u001b[38;5;241m=\u001b[39mnum_cores,\n\u001b[1;32m    214\u001b[0m     category\u001b[38;5;241m=\u001b[39mMetricCategories\u001b[38;5;241m.\u001b[39mSYSTEM,\n\u001b[1;32m    215\u001b[0m )\n",
      "File \u001b[0;32m~/allinfo_new/venv3.11/venv/lib/python3.11/site-packages/deepsparse/legacy/pipeline.py:535\u001b[0m, in \u001b[0;36mPipeline._initialize_engine\u001b[0;34m(self)\u001b[0m\n\u001b[1;32m    532\u001b[0m \u001b[38;5;28;01mdef\u001b[39;00m \u001b[38;5;21m_initialize_engine\u001b[39m(\n\u001b[1;32m    533\u001b[0m     \u001b[38;5;28mself\u001b[39m,\n\u001b[1;32m    534\u001b[0m ) \u001b[38;5;241m-\u001b[39m\u001b[38;5;241m>\u001b[39m Union[Engine, MultiModelEngine, ORTEngine, TorchScriptEngine]:\n\u001b[0;32m--> 535\u001b[0m     \u001b[38;5;28;01mreturn\u001b[39;00m \u001b[43mcreate_engine\u001b[49m\u001b[43m(\u001b[49m\n\u001b[1;32m    536\u001b[0m \u001b[43m        \u001b[49m\u001b[38;5;28;43mself\u001b[39;49m\u001b[38;5;241;43m.\u001b[39;49m\u001b[43monnx_file_path\u001b[49m\u001b[43m,\u001b[49m\u001b[43m \u001b[49m\u001b[38;5;28;43mself\u001b[39;49m\u001b[38;5;241;43m.\u001b[39;49m\u001b[43mengine_type\u001b[49m\u001b[43m,\u001b[49m\u001b[43m \u001b[49m\u001b[38;5;28;43mself\u001b[39;49m\u001b[38;5;241;43m.\u001b[39;49m\u001b[43m_engine_args\u001b[49m\u001b[43m,\u001b[49m\u001b[43m \u001b[49m\u001b[38;5;28;43mself\u001b[39;49m\u001b[38;5;241;43m.\u001b[39;49m\u001b[43mcontext\u001b[49m\n\u001b[1;32m    537\u001b[0m \u001b[43m    \u001b[49m\u001b[43m)\u001b[49m\n",
      "File \u001b[0;32m~/allinfo_new/venv3.11/venv/lib/python3.11/site-packages/deepsparse/legacy/pipeline.py:701\u001b[0m, in \u001b[0;36mcreate_engine\u001b[0;34m(onnx_file_path, engine_type, engine_args, context)\u001b[0m\n\u001b[1;32m    696\u001b[0m         \u001b[38;5;28;01mreturn\u001b[39;00m MultiModelEngine(\n\u001b[1;32m    697\u001b[0m             model\u001b[38;5;241m=\u001b[39monnx_file_path,\n\u001b[1;32m    698\u001b[0m             \u001b[38;5;241m*\u001b[39m\u001b[38;5;241m*\u001b[39mengine_args,\n\u001b[1;32m    699\u001b[0m         )\n\u001b[1;32m    700\u001b[0m     engine_args\u001b[38;5;241m.\u001b[39mpop(\u001b[38;5;124m\"\u001b[39m\u001b[38;5;124mcache_output_bools\u001b[39m\u001b[38;5;124m\"\u001b[39m, \u001b[38;5;28;01mNone\u001b[39;00m)\n\u001b[0;32m--> 701\u001b[0m     \u001b[38;5;28;01mreturn\u001b[39;00m \u001b[43mEngine\u001b[49m\u001b[43m(\u001b[49m\u001b[43monnx_file_path\u001b[49m\u001b[43m,\u001b[49m\u001b[43m \u001b[49m\u001b[38;5;241;43m*\u001b[39;49m\u001b[38;5;241;43m*\u001b[39;49m\u001b[43mengine_args\u001b[49m\u001b[43m)\u001b[49m\n\u001b[1;32m    703\u001b[0m \u001b[38;5;28;01mif\u001b[39;00m engine_type \u001b[38;5;241m==\u001b[39m ORT_ENGINE:\n\u001b[1;32m    704\u001b[0m     \u001b[38;5;28;01mreturn\u001b[39;00m ORTEngine(onnx_file_path, \u001b[38;5;241m*\u001b[39m\u001b[38;5;241m*\u001b[39mengine_args)\n",
      "File \u001b[0;32m~/allinfo_new/venv3.11/venv/lib/python3.11/site-packages/deepsparse/engine.py:327\u001b[0m, in \u001b[0;36mEngine.__init__\u001b[0;34m(self, model, batch_size, num_cores, num_streams, scheduler, input_shapes, cached_outputs)\u001b[0m\n\u001b[1;32m    317\u001b[0m         \u001b[38;5;28mself\u001b[39m\u001b[38;5;241m.\u001b[39m_eng_net \u001b[38;5;241m=\u001b[39m LIB\u001b[38;5;241m.\u001b[39mdeepsparse_engine(\n\u001b[1;32m    318\u001b[0m             model_path,\n\u001b[1;32m    319\u001b[0m             engine_batch_size,\n\u001b[0;32m   (...)\u001b[0m\n\u001b[1;32m    324\u001b[0m             cached_outputs,\n\u001b[1;32m    325\u001b[0m         )\n\u001b[1;32m    326\u001b[0m \u001b[38;5;28;01melse\u001b[39;00m:\n\u001b[0;32m--> 327\u001b[0m     \u001b[38;5;28mself\u001b[39m\u001b[38;5;241m.\u001b[39m_eng_net \u001b[38;5;241m=\u001b[39m \u001b[43mLIB\u001b[49m\u001b[38;5;241;43m.\u001b[39;49m\u001b[43mdeepsparse_engine\u001b[49m\u001b[43m(\u001b[49m\n\u001b[1;32m    328\u001b[0m \u001b[43m        \u001b[49m\u001b[38;5;28;43mself\u001b[39;49m\u001b[38;5;241;43m.\u001b[39;49m\u001b[43m_model_path\u001b[49m\u001b[43m,\u001b[49m\n\u001b[1;32m    329\u001b[0m \u001b[43m        \u001b[49m\u001b[43mengine_batch_size\u001b[49m\u001b[43m,\u001b[49m\n\u001b[1;32m    330\u001b[0m \u001b[43m        \u001b[49m\u001b[38;5;28;43mself\u001b[39;49m\u001b[38;5;241;43m.\u001b[39;49m\u001b[43m_num_cores\u001b[49m\u001b[43m,\u001b[49m\n\u001b[1;32m    331\u001b[0m \u001b[43m        \u001b[49m\u001b[38;5;28;43mself\u001b[39;49m\u001b[38;5;241;43m.\u001b[39;49m\u001b[43m_num_streams\u001b[49m\u001b[43m,\u001b[49m\n\u001b[1;32m    332\u001b[0m \u001b[43m        \u001b[49m\u001b[38;5;28;43mself\u001b[39;49m\u001b[38;5;241;43m.\u001b[39;49m\u001b[43m_scheduler\u001b[49m\u001b[38;5;241;43m.\u001b[39;49m\u001b[43mvalue\u001b[49m\u001b[43m,\u001b[49m\n\u001b[1;32m    333\u001b[0m \u001b[43m        \u001b[49m\u001b[38;5;28;43;01mNone\u001b[39;49;00m\u001b[43m,\u001b[49m\n\u001b[1;32m    334\u001b[0m \u001b[43m        \u001b[49m\u001b[43mcached_outputs\u001b[49m\u001b[43m,\u001b[49m\n\u001b[1;32m    335\u001b[0m \u001b[43m    \u001b[49m\u001b[43m)\u001b[49m\n\u001b[1;32m    337\u001b[0m \u001b[38;5;28;01mif\u001b[39;00m \u001b[38;5;28mself\u001b[39m\u001b[38;5;241m.\u001b[39m_batch_size \u001b[38;5;129;01mis\u001b[39;00m \u001b[38;5;28;01mNone\u001b[39;00m:\n\u001b[1;32m    338\u001b[0m     os\u001b[38;5;241m.\u001b[39menviron\u001b[38;5;241m.\u001b[39mpop(\u001b[38;5;124m\"\u001b[39m\u001b[38;5;124mNM_DISABLE_BATCH_OVERRIDE\u001b[39m\u001b[38;5;124m\"\u001b[39m, \u001b[38;5;28;01mNone\u001b[39;00m)\n",
      "\u001b[0;31mRuntimeError\u001b[0m: NM: error: Failed to load model with error: Invalid tensor data type 21."
     ]
    }
   ],
   "source": [
    "yolo_pipeline = Pipeline.create(task=\"yolov8\", model_path=model_path)\n",
    "yolo_pipeline_prune_int4 = Pipeline.create(task=\"yolov8\", model_path=model_path_prune_int4)\n",
    "yolo_pipeline_prune_int8 = Pipeline.create(task=\"yolov8\", model_path=model_path_prune_int8)\n",
    "yolo_pipeline_prune = Pipeline.create(task=\"yolov8\", model_path=model_path_prune)\n",
    "\n"
   ]
  },
  {
   "cell_type": "code",
   "execution_count": null,
   "id": "c9158886-9f43-45d9-a1b7-749d478411f8",
   "metadata": {},
   "outputs": [],
   "source": []
  }
 ],
 "metadata": {
  "kernelspec": {
   "display_name": "py3.11",
   "language": "python",
   "name": "py3.11"
  },
  "language_info": {
   "codemirror_mode": {
    "name": "ipython",
    "version": 3
   },
   "file_extension": ".py",
   "mimetype": "text/x-python",
   "name": "python",
   "nbconvert_exporter": "python",
   "pygments_lexer": "ipython3",
   "version": "3.11.10"
  }
 },
 "nbformat": 4,
 "nbformat_minor": 5
}
