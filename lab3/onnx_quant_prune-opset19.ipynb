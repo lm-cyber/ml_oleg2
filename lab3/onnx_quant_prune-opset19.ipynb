{
 "cells": [
  {
   "cell_type": "code",
   "execution_count": 1,
   "id": "d6742e81-d264-4e7c-943c-b5ec70643e63",
   "metadata": {},
   "outputs": [
    {
     "name": "stdout",
     "output_type": "stream",
     "text": [
      "best_openvino_model\t\t\t   deepsparse_prune_quant.ipynb\n",
      "best_opset13.onnx\t\t\t   detect4\n",
      "best_opset19.onnx\t\t\t   lab3_py3.11.ipynb\n",
      "best_prune_75_quantized_int4_opset13.onnx  onnx_quant_prune.ipynb\n",
      "best_prune_75_quantized_int8_opset13.onnx  onnx_quant_prune-opset19.ipynb\n",
      "best_prune_opset13.onnx\t\t\t   prune_.ipynb\n",
      "best_prune.pt\t\t\t\t   runs\n",
      "best.pt\n"
     ]
    }
   ],
   "source": [
    "!ls"
   ]
  },
  {
   "cell_type": "code",
   "execution_count": 2,
   "id": "1d093eda-4ce0-4236-bfd3-d18dcc21f159",
   "metadata": {},
   "outputs": [
    {
     "name": "stdout",
     "output_type": "stream",
     "text": [
      "Ultralytics 8.3.39 🚀 Python-3.12.7 torch-2.4.1+cpu CPU (AMD Ryzen 7 7730U with Radeon Graphics)\n",
      "Model summary (fused): 268 layers, 68,156,310 parameters, 0 gradients, 257.6 GFLOPs\n",
      "\n",
      "\u001b[34m\u001b[1mPyTorch:\u001b[0m starting from 'best_prune.pt' with input shape (1, 3, 640, 640) BCHW and output shape(s) (1, 38, 8400) (130.4 MB)\n",
      "\n",
      "\u001b[34m\u001b[1mONNX:\u001b[0m starting export with onnx 1.17.0 opset 19...\n",
      "\u001b[34m\u001b[1mONNX:\u001b[0m slimming with onnxslim 0.1.43...\n",
      "\u001b[34m\u001b[1mONNX:\u001b[0m export success ✅ 4.3s, saved as 'best_prune.onnx' (260.2 MB)\n",
      "\n",
      "Export complete (6.4s)\n",
      "Results saved to \u001b[1m/home/void/ml_oleg/lab3\u001b[0m\n",
      "Predict:         yolo predict task=detect model=best_prune.onnx imgsz=640  \n",
      "Validate:        yolo val task=detect model=best_prune.onnx imgsz=640 data=test.yaml  \n",
      "Visualize:       https://netron.app\n"
     ]
    },
    {
     "data": {
      "text/plain": [
       "'best_prune.onnx'"
      ]
     },
     "execution_count": 2,
     "metadata": {},
     "output_type": "execute_result"
    }
   ],
   "source": [
    "from ultralytics import YOLO\n",
    "\n",
    "model = YOLO(\"best_prune.pt\") \n",
    "model.export(format='onnx')"
   ]
  },
  {
   "cell_type": "code",
   "execution_count": 3,
   "id": "237b07b3-61aa-44c0-aed9-75640162f429",
   "metadata": {},
   "outputs": [],
   "source": [
    "!mv best_prune.onnx best_prune_opset19.onnx"
   ]
  },
  {
   "cell_type": "code",
   "execution_count": 4,
   "id": "681c4898-4e6a-43ac-8da8-20c2b730098c",
   "metadata": {},
   "outputs": [],
   "source": [
    "import numpy as np\n",
    "from onnxruntime.quantization import CalibrationDataReader, quantize_static, QuantType, QuantFormat\n",
    "import os \n",
    "import cv2\n",
    "class ImageCalibrationDataReader(CalibrationDataReader):\n",
    "    def __init__(self, image_paths):\n",
    "        self.image_paths = image_paths\n",
    "        self.idx = 0\n",
    "        self.input_name = \"images\"\n",
    "\n",
    "    def preprocess(self, frame):\n",
    "        frame = cv2.imread(frame)\n",
    "        X = cv2.resize(frame, (640, 640))\n",
    "        image_data = np.array(X).astype(np.float32) / 255.0  \n",
    "        image_data = np.transpose(image_data, (2, 0, 1))  \n",
    "        image_data = np.expand_dims(image_data, axis=0)  \n",
    "        return image_data\n",
    "\n",
    "    def get_next(self):\n",
    "        if self.idx >= len(self.image_paths):\n",
    "            return None\n",
    "\n",
    "        image_path = self.image_paths[self.idx]\n",
    "        input_data = self.preprocess(image_path)\n",
    "        self.idx += 1\n",
    "        return {self.input_name: input_data}\n",
    "\n",
    "calibration_image_paths  = os.listdir('../annotations/images/test/')[:100]\n",
    "calibration_image_paths =list(map(lambda x: f'../annotations/images/test/{x}',calibration_image_paths))\n",
    "\n",
    "\n",
    "calibration_data_reader = ImageCalibrationDataReader(calibration_image_paths)"
   ]
  },
  {
   "cell_type": "code",
   "execution_count": 5,
   "id": "04e61e06-9aa4-42a7-b8b8-ce6d86014405",
   "metadata": {},
   "outputs": [
    {
     "name": "stderr",
     "output_type": "stream",
     "text": [
      "WARNING:root:Please consider to run pre-processing before quantization. Refer to example: https://github.com/microsoft/onnxruntime-inference-examples/blob/main/quantization/image_classification/cpu/ReadMe.md \n",
      "WARNING:root:Please consider pre-processing before quantization. See https://github.com/microsoft/onnxruntime-inference-examples/blob/main/quantization/image_classification/cpu/ReadMe.md \n"
     ]
    }
   ],
   "source": [
    "quantize_static('best_prune_opset19.onnx', \"best_prune_75_quantized_int8_opset19.onnx\",\n",
    "                weight_type=QuantType.QInt8,\n",
    "                activation_type=QuantType.QUInt8,\n",
    "                calibration_data_reader=calibration_data_reader,\n",
    "                quant_format=QuantFormat.QDQ,\n",
    "                nodes_to_exclude=['/model.22/Concat_3', '/model.22/Split', '/model.22/Sigmoid'\n",
    "                                 '/model.22/dfl/Reshape', '/model.22/dfl/Transpose', '/model.22/dfl/Softmax', \n",
    "                                 '/model.22/dfl/conv/Conv', '/model.22/dfl/Reshape_1', '/model.22/Slice_1',\n",
    "                                 '/model.22/Slice', '/model.22/Add_1', '/model.22/Sub', '/model.22/Div_1',\n",
    "                                  '/model.22/Concat_4', '/model.22/Mul_2', '/model.22/Concat_5'],\n",
    "                per_channel=False,\n",
    "                reduce_range=True,)"
   ]
  },
  {
   "cell_type": "code",
   "execution_count": 6,
   "id": "6f0e628f-48e4-4b26-9c39-bf630a3d787b",
   "metadata": {},
   "outputs": [
    {
     "name": "stderr",
     "output_type": "stream",
     "text": [
      "WARNING:root:Please consider to run pre-processing before quantization. Refer to example: https://github.com/microsoft/onnxruntime-inference-examples/blob/main/quantization/image_classification/cpu/ReadMe.md \n",
      "WARNING:root:ONNX QuantizeLinear and DequantizeLinear operators do not support 16-bit/4-bit integer quantization types prior to opset 21. The domain of QuantizeLinear and DequantizeLinear operators will be set to 'com.microsoft' to enable support.\n",
      "WARNING:root:Please consider pre-processing before quantization. See https://github.com/microsoft/onnxruntime-inference-examples/blob/main/quantization/image_classification/cpu/ReadMe.md \n"
     ]
    }
   ],
   "source": [
    "calibration_data_reader = ImageCalibrationDataReader(calibration_image_paths)\n",
    "quantize_static('best_prune_opset19.onnx', \"best_prune_75_quantized_int4_opset19.onnx\",\n",
    "                weight_type=QuantType.QInt4,\n",
    "                activation_type=QuantType.QUInt4,\n",
    "                calibration_data_reader=calibration_data_reader,\n",
    "                quant_format=QuantFormat.QDQ,\n",
    "                nodes_to_exclude=['/model.22/Concat_3', '/model.22/Split', '/model.22/Sigmoid'\n",
    "                                 '/model.22/dfl/Reshape', '/model.22/dfl/Transpose', '/model.22/dfl/Softmax', \n",
    "                                 '/model.22/dfl/conv/Conv', '/model.22/dfl/Reshape_1', '/model.22/Slice_1',\n",
    "                                 '/model.22/Slice', '/model.22/Add_1', '/model.22/Sub', '/model.22/Div_1',\n",
    "                                  '/model.22/Concat_4', '/model.22/Mul_2', '/model.22/Concat_5'],\n",
    "                per_channel=False,\n",
    "                reduce_range=True,)"
   ]
  },
  {
   "cell_type": "code",
   "execution_count": null,
   "id": "6146cbf2-e001-4304-8fcd-c478ba5b57ea",
   "metadata": {},
   "outputs": [],
   "source": []
  }
 ],
 "metadata": {
  "kernelspec": {
   "display_name": "venv",
   "language": "python",
   "name": "venv"
  },
  "language_info": {
   "codemirror_mode": {
    "name": "ipython",
    "version": 3
   },
   "file_extension": ".py",
   "mimetype": "text/x-python",
   "name": "python",
   "nbconvert_exporter": "python",
   "pygments_lexer": "ipython3",
   "version": "3.12.7"
  }
 },
 "nbformat": 4,
 "nbformat_minor": 5
}
