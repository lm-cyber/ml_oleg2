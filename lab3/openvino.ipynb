{
 "cells": [
  {
   "cell_type": "code",
   "execution_count": 1,
   "id": "076166eb-55b4-43df-b762-d4d0e15151dc",
   "metadata": {},
   "outputs": [
    {
     "name": "stdout",
     "output_type": "stream",
     "text": [
      "INFO:nncf:NNCF initialized successfully. Supported frameworks detected: torch, onnx, openvino\n"
     ]
    }
   ],
   "source": [
    "import nncf"
   ]
  },
  {
   "cell_type": "code",
   "execution_count": 2,
   "id": "d9033b23-f719-431a-8a04-e00e416f77dd",
   "metadata": {},
   "outputs": [
    {
     "name": "stdout",
     "output_type": "stream",
     "text": [
      "best_openvino_model\t\t\t   deepsparse_prune_quant.ipynb\n",
      "best_opset13.onnx\t\t\t   detect4\n",
      "best_opset19.onnx\t\t\t   graph.xml\n",
      "best_prune_75_quantized_int4_opset13.onnx  grath.json\n",
      "best_prune_75_quantized_int4_opset19.onnx  lab3.ipynb\n",
      "best_prune_75_quantized_int8_opset13.onnx  lab3_py3.11.ipynb\n",
      "best_prune_75_quantized_int8_opset19.onnx  micro.yaml\n",
      "best_prune_openvino_model\t\t   onnx_quant_prune.ipynb\n",
      "best_prune_opset13.onnx\t\t\t   onnx_quant_prune-opset19.ipynb\n",
      "best_prune_opset19.onnx\t\t\t   openvino.ipynb\n",
      "best_prune.pt\t\t\t\t   prune_.ipynb\n",
      "best.pt\t\t\t\t\t   runs\n"
     ]
    }
   ],
   "source": [
    "!ls"
   ]
  },
  {
   "cell_type": "code",
   "execution_count": 3,
   "id": "3c4836ee-173d-44a5-9438-02ab139f1b63",
   "metadata": {},
   "outputs": [
    {
     "name": "stdout",
     "output_type": "stream",
     "text": [
      "WARNING ⚠️ Unable to automatically guess model task, assuming 'task=detect'. Explicitly define task for your model, i.e. 'task=detect', 'segment', 'classify','pose' or 'obb'.\n"
     ]
    }
   ],
   "source": [
    "from ultralytics import YOLO\n",
    "\n",
    "model = YOLO(\"best_prune_openvino_model\")  "
   ]
  },
  {
   "cell_type": "code",
   "execution_count": 4,
   "id": "55fe07e9-ed5c-4c85-8d20-56706ed92989",
   "metadata": {},
   "outputs": [
    {
     "name": "stdout",
     "output_type": "stream",
     "text": [
      "best_prune.bin\tbest_prune.xml\tmetadata.yaml\n"
     ]
    }
   ],
   "source": [
    "!ls best_prune_openvino_model"
   ]
  },
  {
   "cell_type": "code",
   "execution_count": 5,
   "id": "04c95f87-7b15-4e44-80e6-20fae06a1f18",
   "metadata": {},
   "outputs": [],
   "source": [
    "import openvino as ov\n",
    "\n",
    "core = ov.Core()\n",
    "\n",
    "det_ov_model = core.read_model('best_prune_openvino_model/best_prune.xml')"
   ]
  },
  {
   "cell_type": "code",
   "execution_count": 6,
   "id": "91308abf-6ef7-4910-b87a-7310152af207",
   "metadata": {},
   "outputs": [
    {
     "name": "stdout",
     "output_type": "stream",
     "text": [
      "../test.yaml\n"
     ]
    }
   ],
   "source": [
    "!ls ../test.yaml"
   ]
  },
  {
   "cell_type": "code",
   "execution_count": 7,
   "id": "5b4f3c76-7889-42b5-a9b8-32aecef026f0",
   "metadata": {},
   "outputs": [],
   "source": [
    "\n",
    "\n",
    "from ultralytics.utils import DEFAULT_CFG\n",
    "from ultralytics.cfg import get_cfg\n",
    "from ultralytics.data.converter import coco80_to_coco91_class\n",
    "from ultralytics.data.utils import check_det_dataset\n",
    "\n",
    "args = get_cfg(cfg=DEFAULT_CFG)\n",
    "args.data = str('../test.yaml')\n",
    "\n"
   ]
  },
  {
   "cell_type": "code",
   "execution_count": 8,
   "id": "7f61981a-e713-4386-bc03-ca7ad3b2707d",
   "metadata": {},
   "outputs": [
    {
     "name": "stdout",
     "output_type": "stream",
     "text": [
      "images\tlabels\n"
     ]
    }
   ],
   "source": [
    "!ls ../annotations_s"
   ]
  },
  {
   "cell_type": "code",
   "execution_count": 9,
   "id": "e6d62abb-305b-401f-a4f2-92b9eb408803",
   "metadata": {},
   "outputs": [],
   "source": [
    "det_validator = model.task_map[model.task][\"validator\"](args=args)"
   ]
  },
  {
   "cell_type": "code",
   "execution_count": 10,
   "id": "0981f219-2283-474c-8a7f-303393a67a2a",
   "metadata": {},
   "outputs": [],
   "source": [
    "micro = '''\n",
    "train: /home/void/ml_oleg/annotations_micro/images/train  # Path to training images\n",
    "val: /home/void/ml_oleg/annotations_micro/images/val      # Path to validation images\n",
    "\n",
    "labels:\n",
    "  train: /home/void/ml_oleg/annotations_micro/labels/train  # Path to training labels\n",
    "  val: /home/void/ml_oleg/annotations_micro/labels/val      # Path to validation labels\n",
    "\n",
    "\n",
    "names:\n",
    "  0: Long snouted lancetfish\n",
    "  1: Roudie scolar\n",
    "  2: Marlin\n",
    "  3: Swordfish\n",
    "  4: Great barracuda\n",
    "  5: Thresher shark\n",
    "  6: Lancetfish\n",
    "  7: Pomfret\n",
    "  8: Tuna\n",
    "  9: Opah\n",
    "  10: Pelagic stingray\n",
    "  11: Mahi mahi\n",
    "  12: Striped marlin\n",
    "  13: Wahoo\n",
    "  14: No fish\n",
    "  15: Human\n",
    "  16: Skipjack tuna\n",
    "  17: Yellowfin tuna\n",
    "  18: Unknown\n",
    "  19: Blue marlin\n",
    "  20: Oilfish\n",
    "  21: Bigeye tuna\n",
    "  22: Snake mackerel\n",
    "  23: Indo Pacific sailfish\n",
    "  24: Water\n",
    "  25: Sickle pomfret\n",
    "  26: Albacore\n",
    "  27: Brama\n",
    "  28: Black marlin\n",
    "  29: Shortbill spearfish\n",
    "  30: Mola mola\n",
    "  31: Rainbow runner\n",
    "  32: Escolar\n",
    "  33: Shark'''\n",
    "with open('micro.yaml','w') as f:\n",
    "    f.write(micro)"
   ]
  },
  {
   "cell_type": "code",
   "execution_count": 11,
   "id": "9db71b20-f533-4072-af9d-0b1a6920996e",
   "metadata": {
    "scrolled": true
   },
   "outputs": [
    {
     "name": "stderr",
     "output_type": "stream",
     "text": [
      "Scanning ../annotations_micro/labels/train... 2 images, 0 backgrounds, 0 corrupt: 100%|██████████| 2/2 [00:00<00:00, 591.58it/s]"
     ]
    },
    {
     "name": "stdout",
     "output_type": "stream",
     "text": [
      "New cache created: ../annotations_micro/labels/train.cache\n"
     ]
    },
    {
     "name": "stderr",
     "output_type": "stream",
     "text": [
      "\n"
     ]
    }
   ],
   "source": [
    "import yaml\n",
    "from ultralytics.data import YOLODataset\n",
    "with open('micro.yaml', 'r') as file:\n",
    "    data = yaml.safe_load(file)\n",
    "ds = YOLODataset(data=data,img_path='../annotations_micro')"
   ]
  },
  {
   "cell_type": "code",
   "execution_count": 12,
   "id": "1fc5b1d1-14e5-4535-ae6e-bceef833147c",
   "metadata": {},
   "outputs": [],
   "source": [
    "from ultralytics.data import build_dataloader\n",
    "det_data_loader = build_dataloader(ds,batch=1,workers=2)\n"
   ]
  },
  {
   "cell_type": "code",
   "execution_count": 13,
   "id": "6bf89c96-8223-435f-8391-8fba68c2f48b",
   "metadata": {},
   "outputs": [],
   "source": [
    "import nncf\n",
    "from typing import Dict\n",
    "\n",
    "\n",
    "def transform_fn(data_item:Dict):\n",
    "    \n",
    "    input_tensor = det_validator.preprocess(data_item)['img'].numpy()\n",
    "    return input_tensor\n",
    "\n",
    "\n",
    "quantization_dataset = nncf.Dataset(det_data_loader, transform_fn)"
   ]
  },
  {
   "cell_type": "code",
   "execution_count": 14,
   "id": "87e05b5c-c4e2-4355-bc80-eba34a19d148",
   "metadata": {},
   "outputs": [],
   "source": [
    "from nncf.common.graph import NNCFGraph"
   ]
  },
  {
   "cell_type": "code",
   "execution_count": 15,
   "id": "476ccff3-ab8b-4ef0-9654-d4bd828a0b32",
   "metadata": {},
   "outputs": [
    {
     "data": {
      "text/plain": [
       "openvino.runtime.ie_api.Model"
      ]
     },
     "execution_count": 15,
     "metadata": {},
     "output_type": "execute_result"
    }
   ],
   "source": [
    "type(det_ov_model)"
   ]
  },
  {
   "cell_type": "code",
   "execution_count": 16,
   "id": "f770cd6c-57da-41c9-880f-6959b68a8f9b",
   "metadata": {},
   "outputs": [],
   "source": [
    "# from nncf.common.factory import NNCFGraphFactory"
   ]
  },
  {
   "cell_type": "code",
   "execution_count": 17,
   "id": "e663e82b-5721-4978-8922-86946646b432",
   "metadata": {},
   "outputs": [],
   "source": [
    "# NNCFGraphFactory.create(det_ov_model)"
   ]
  },
  {
   "cell_type": "code",
   "execution_count": 18,
   "id": "2a35009c-65f1-44e2-9252-c3559da01c5b",
   "metadata": {},
   "outputs": [],
   "source": [
    "# from nncf.experimental.common.graph.netron import save_for_netron\n",
    "\n",
    "# save_for_netron(NNCFGraphFactory.create(det_ov_model), \"graph.xml\")"
   ]
  },
  {
   "cell_type": "code",
   "execution_count": 19,
   "id": "49f8e567-7935-4b95-898a-599e6818d832",
   "metadata": {},
   "outputs": [],
   "source": [
    "import json\n",
    "with open('grath.json') as f:\n",
    "    data_graph = json.load(f)\n"
   ]
  },
  {
   "cell_type": "code",
   "execution_count": 20,
   "id": "efe90401-00af-4c6c-97d6-3e92e58f8b6b",
   "metadata": {},
   "outputs": [],
   "source": [
    "names = list(map(lambda x: x['@name'],data_graph['net']['layers']['layer']))"
   ]
  },
  {
   "cell_type": "code",
   "execution_count": 21,
   "id": "9716d20f-9a88-458e-b047-ae359588aa2a",
   "metadata": {},
   "outputs": [],
   "source": [
    "out = list(filter(lambda x: '22.dfl' in x , names))"
   ]
  },
  {
   "cell_type": "code",
   "execution_count": 22,
   "id": "c33c90ac-d2a1-4f9a-859e-fcf5dc279159",
   "metadata": {},
   "outputs": [],
   "source": [
    "in_d = list(set(filter(lambda x: '__module.model.22' in x , names))-set(out))"
   ]
  },
  {
   "cell_type": "code",
   "execution_count": 23,
   "id": "9d1be447-b6c4-4cdc-9879-23d7f7da4ae2",
   "metadata": {},
   "outputs": [],
   "source": [
    "# ['__module.model.22/aten::cat/Concat',\n",
    "#                               '__module.model.22/aten::cat/Concat_1',\n",
    "#                               '__module.model.22/aten::cat/Concat_2']"
   ]
  },
  {
   "cell_type": "code",
   "execution_count": 24,
   "id": "6410ec89-7f73-49de-ba6b-2ddebfe1fc33",
   "metadata": {},
   "outputs": [
    {
     "data": {
      "text/plain": [
       "<enum 'QuantizationPreset'>"
      ]
     },
     "execution_count": 24,
     "metadata": {},
     "output_type": "execute_result"
    }
   ],
   "source": [
    "nncf.QuantizationPreset"
   ]
  },
  {
   "cell_type": "code",
   "execution_count": 25,
   "id": "ac5ada8b-982d-43d7-b0e6-83403346c7ce",
   "metadata": {},
   "outputs": [
    {
     "data": {
      "text/plain": [
       "['performance', 'mixed']"
      ]
     },
     "execution_count": 25,
     "metadata": {},
     "output_type": "execute_result"
    }
   ],
   "source": [
    "[e.value for e in nncf.QuantizationPreset]"
   ]
  },
  {
   "cell_type": "code",
   "execution_count": 26,
   "id": "21b609ed-3a23-4321-89ed-21f4ffd6a410",
   "metadata": {},
   "outputs": [],
   "source": [
    "# quantized_model = nncf.quantize(model, calibration_dataset)"
   ]
  },
  {
   "cell_type": "code",
   "execution_count": 27,
   "id": "3e373abb-9a35-4163-9c02-2082bf2d2c2f",
   "metadata": {},
   "outputs": [],
   "source": [
    "ignored_scope = nncf.IgnoredScope( # post-processing\n",
    "    subgraphs=[\n",
    "        nncf.Subgraph(inputs=in_d,\n",
    "                      outputs=out)\n",
    "    ]\n",
    ")\n",
    "\n",
    "# Detection model\n",
    "quantized_det_model = nncf.quantize(\n",
    "    det_ov_model,\n",
    "    quantization_dataset,\n",
    "    preset=nncf.QuantizationPreset.MIXED,\n",
    "    ignored_scope=ignored_scope\n",
    ")"
   ]
  },
  {
   "cell_type": "code",
   "execution_count": null,
   "id": "b71f3dbb-5563-4b4f-8f7d-acd324e7b842",
   "metadata": {},
   "outputs": [],
   "source": [
    "# ааа в один поток считаеться"
   ]
  },
  {
   "cell_type": "code",
   "execution_count": 28,
   "id": "2a558778-e775-4cca-a327-06cc2114f400",
   "metadata": {},
   "outputs": [],
   "source": [
    "ov.save_model(quantized_det_model, 'openvino_prune_quant')"
   ]
  },
  {
   "cell_type": "code",
   "execution_count": null,
   "id": "6910089e-093b-45c3-ada7-102301ba7222",
   "metadata": {},
   "outputs": [],
   "source": []
  }
 ],
 "metadata": {
  "kernelspec": {
   "display_name": "venv",
   "language": "python",
   "name": "venv"
  },
  "language_info": {
   "codemirror_mode": {
    "name": "ipython",
    "version": 3
   },
   "file_extension": ".py",
   "mimetype": "text/x-python",
   "name": "python",
   "nbconvert_exporter": "python",
   "pygments_lexer": "ipython3",
   "version": "3.12.7"
  }
 },
 "nbformat": 4,
 "nbformat_minor": 5
}
