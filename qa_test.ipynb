{
 "cells": [
  {
   "cell_type": "code",
   "execution_count": 1,
   "id": "f5df8ef0-bda4-457a-aca3-a0c3c2dec19e",
   "metadata": {},
   "outputs": [],
   "source": [
    "import numpy as np \n",
    "import pandas as pd \n",
    "import os\n"
   ]
  },
  {
   "cell_type": "code",
   "execution_count": 2,
   "id": "d50f5e31-5391-4832-ac0a-073818b2fa99",
   "metadata": {},
   "outputs": [],
   "source": [
    "import os\n",
    "os.environ['WANDB_DISABLED'] = 'true'"
   ]
  },
  {
   "cell_type": "code",
   "execution_count": 3,
   "id": "7a3bb889-0648-4b11-9fd0-9b0fb9e0732f",
   "metadata": {},
   "outputs": [],
   "source": [
    "\n",
    "import torch\n",
    "\n"
   ]
  },
  {
   "cell_type": "code",
   "execution_count": 4,
   "id": "de85661a-16e6-4f57-be49-f5d906b12a75",
   "metadata": {},
   "outputs": [
    {
     "name": "stdout",
     "output_type": "stream",
     "text": [
      "detect4/train/weights/best.pt\n"
     ]
    }
   ],
   "source": [
    "ls detect4/train/weights/best.pt"
   ]
  },
  {
   "cell_type": "code",
   "execution_count": null,
   "id": "d0572fa9-d958-432d-8859-72df2ae4bfed",
   "metadata": {},
   "outputs": [],
   "source": []
  },
  {
   "cell_type": "code",
   "execution_count": 5,
   "id": "2e37c923-2c2e-4de7-81e1-dec5005e7f61",
   "metadata": {},
   "outputs": [],
   "source": [
    "from ultralytics import YOLO\n",
    "\n",
    "model = YOLO(\"detect4/train/weights/best.pt\")  # You can choose a different variant like 'yolov8n.pt' or 'yolov8m.pt'\n",
    "\n"
   ]
  },
  {
   "cell_type": "code",
   "execution_count": 6,
   "id": "ac0457a2-d873-4112-b308-150645bd6b7b",
   "metadata": {},
   "outputs": [],
   "source": [
    "from datetime import timedelta\n",
    "import time\n",
    "\n",
    "\n",
    "\n",
    "def test(model_test , batch = 8,it=20):\n",
    "    test_val = torch.rand(batch,3,640,640)\n",
    "    torch.cpu.synchronize()\n",
    "    #warm up \n",
    "    for _ in range(5):\n",
    "        model_test.predict(test_val,verbose=False)\n",
    "        torch.cpu.synchronize()\n",
    "\n",
    "        \n",
    "    starttime = time.perf_counter()\n",
    "    for _ in range(it):\n",
    "        model_test.predict(test_val,verbose=False)\n",
    "        torch.cpu.synchronize()\n",
    "\n",
    "    return timedelta(seconds=time.perf_counter()-starttime)/it\n",
    "\n",
    "\n",
    "    "
   ]
  },
  {
   "cell_type": "code",
   "execution_count": 7,
   "id": "a7ec415a-19dd-4bec-8459-df34d29d4ee7",
   "metadata": {},
   "outputs": [
    {
     "data": {
      "text/plain": [
       "datetime.timedelta(seconds=5, microseconds=680967)"
      ]
     },
     "execution_count": 7,
     "metadata": {},
     "output_type": "execute_result"
    }
   ],
   "source": [
    "t = test(model,it=20)\n",
    "t"
   ]
  },
  {
   "cell_type": "code",
   "execution_count": 8,
   "id": "871320a0-8d6b-43f4-98cb-26105daf644d",
   "metadata": {},
   "outputs": [],
   "source": [
    "from torch.quantization import quantize_dynamic\n",
    "import torch\n",
    "\n",
    "model = YOLO(\"detect4/train/weights/best.pt\")\n",
    "\n",
    "model_quantized = quantize_dynamic(model, {torch.nn.Linear, torch.nn.Conv2d}, dtype=torch.qint8)\n",
    "\n",
    "# torch.save(model_quantized.state_dict(), 'yolov8_quantized_model.pth')"
   ]
  },
  {
   "cell_type": "code",
   "execution_count": 9,
   "id": "704dbfb1-bd7a-4ceb-bd50-332929451477",
   "metadata": {},
   "outputs": [],
   "source": [
    "# model_quantized"
   ]
  },
  {
   "cell_type": "code",
   "execution_count": 10,
   "id": "5587453c-e725-4723-8c4f-19c6be3107e0",
   "metadata": {},
   "outputs": [
    {
     "data": {
      "text/plain": [
       "datetime.timedelta(seconds=5, microseconds=843715)"
      ]
     },
     "execution_count": 10,
     "metadata": {},
     "output_type": "execute_result"
    }
   ],
   "source": [
    "t_q = test(model_quantized,it=20)\n",
    "t_q"
   ]
  },
  {
   "cell_type": "code",
   "execution_count": 11,
   "id": "1ae0f42b-2ba4-4003-81ea-39eee15b3c94",
   "metadata": {},
   "outputs": [],
   "source": [
    "from copy import deepcopy\n",
    "from itertools import islice\n",
    "\n",
    "import torch\n",
    "from torch import nn\n",
    "\n",
    "# from torch.quantization.quantize_fx import convert_fx\n",
    "# from torch.quantization.quantize_fx import prepare_fx\n",
    "# from torch.utils.data import DataLoader\n",
    "\n",
    "\n",
    "\n",
    "# def q_stat(model,data_loader,num_batches,device):\n",
    "#     prepared_model = deepcopy(model)\n",
    "#     prepared_model.eval()\n",
    "#     example_input = next(iter(data_loader))\n",
    "#     prepared_model = prepare_fx(\n",
    "#         model=prepared_model,\n",
    "#         qconfig_mapping=QCONFIG_MAPPING,\n",
    "#         # example_inputs=(example_input, ),\n",
    "#     )\n",
    "    \n",
    "#     device = torch.device(device)\n",
    "\n",
    "#     prepared_model.eval()\n",
    "#     prepared_model.to(device)\n",
    "\n",
    "#     with torch.no_grad():\n",
    "#         for image, _ in islice(data_loader, num_batches):\n",
    "#             prepared_model(image.to(device))\n",
    "#     prepared_model.cpu()\n",
    "#     quantized_model = convert_fx(prepared_model)\n",
    "#     return quantized_model"
   ]
  },
  {
   "cell_type": "code",
   "execution_count": 12,
   "id": "12118842-6eec-4f41-83e5-f3ab971168ea",
   "metadata": {},
   "outputs": [],
   "source": [
    "from ultralytics.data import YOLODataset\n"
   ]
  },
  {
   "cell_type": "code",
   "execution_count": 13,
   "id": "7b83b990-babd-4fb7-8c30-064ada98279a",
   "metadata": {},
   "outputs": [
    {
     "name": "stdout",
     "output_type": "stream",
     "text": [
      "images\tlabels\n"
     ]
    }
   ],
   "source": [
    "!ls annotations"
   ]
  },
  {
   "cell_type": "code",
   "execution_count": 14,
   "id": "62e360c2-6269-400e-8c2d-94f768368dc4",
   "metadata": {},
   "outputs": [],
   "source": [
    "import yaml\n",
    "with open('test.yaml', 'r') as file:\n",
    "    data = yaml.safe_load(file)"
   ]
  },
  {
   "cell_type": "code",
   "execution_count": 15,
   "id": "7a0af715-a18f-4335-810c-a5013e349f48",
   "metadata": {
    "scrolled": true
   },
   "outputs": [
    {
     "name": "stderr",
     "output_type": "stream",
     "text": [
      "Scanning annotations_s/labels/train... 2000 images, 0 backgrounds, 0 corrupt: 100%|██████████| 2000/2000 [00:00<00:00, 3853.23it/s]"
     ]
    },
    {
     "name": "stdout",
     "output_type": "stream",
     "text": [
      "WARNING ⚠️ annotations_s/images/train/fc3dc4d0-5952-11ec-bd4e-e7aff7c46c27.jpg: 2 duplicate labels removed\n",
      "WARNING ⚠️ annotations_s/images/train/fc3de866-5952-11ec-bd70-4390f6e66f66.jpg: 2 duplicate labels removed\n",
      "WARNING ⚠️ annotations_s/images/train/fc3e67b4-5952-11ec-be80-93f0791c872a.jpg: 2 duplicate labels removed\n",
      "WARNING ⚠️ annotations_s/images/train/fc3ed29e-5952-11ec-bf81-f7fa86e9085e.jpg: 4 duplicate labels removed\n",
      "WARNING ⚠️ annotations_s/images/train/fc3f8040-5952-11ec-84eb-0f979096c2f7.jpg: 4 duplicate labels removed\n",
      "WARNING ⚠️ annotations_s/images/train/fc3f8518-5952-11ec-84f8-4f5d75f45d45.jpg: 2 duplicate labels removed\n",
      "WARNING ⚠️ annotations_s/images/train/fc416e5a-5952-11ec-8935-635b25caae29.jpg: 4 duplicate labels removed\n",
      "WARNING ⚠️ annotations_s/images/train/fc418c0a-5952-11ec-897e-679888442f90.jpg: 1 duplicate labels removed\n",
      "WARNING ⚠️ annotations_s/images/train/fc42defc-5952-11ec-8c0a-7b21be1bd45d.jpg: 2 duplicate labels removed\n",
      "WARNING ⚠️ annotations_s/images/train/fc4334f6-5952-11ec-8cb2-57bae0dde0ef.jpg: 2 duplicate labels removed\n",
      "WARNING ⚠️ annotations_s/images/train/fc433fdc-5952-11ec-8ccc-17164692785b.jpg: 2 duplicate labels removed\n",
      "WARNING ⚠️ annotations_s/images/train/fc43b502-5952-11ec-8ded-bb39215e6a97.jpg: 1 duplicate labels removed\n",
      "WARNING ⚠️ annotations_s/images/train/fc43f7d8-5952-11ec-8e9f-3ff3f71b6a18.jpg: 2 duplicate labels removed\n",
      "WARNING ⚠️ annotations_s/images/train/fc4a331e-5952-11ec-94e5-b7edbe287dc7.jpg: 2 duplicate labels removed\n",
      "WARNING ⚠️ annotations_s/images/train/fc4b1d38-5952-11ec-963e-0ffd766be772.jpg: 4 duplicate labels removed\n",
      "WARNING ⚠️ annotations_s/images/train/fc8d1d1e-5952-11ec-b33e-8bee3053f68d.jpg: 1 duplicate labels removed\n",
      "WARNING ⚠️ annotations_s/images/train/fc99a570-5952-11ec-b69c-6f3e009b9a1c.jpg: 1 duplicate labels removed\n",
      "WARNING ⚠️ annotations_s/images/train/fc9b0956-5952-11ec-b857-631153074bec.jpg: 1 duplicate labels removed\n",
      "WARNING ⚠️ annotations_s/images/train/fc9bcd28-5952-11ec-b94d-bba914c1ccd0.jpg: 1 duplicate labels removed\n",
      "WARNING ⚠️ annotations_s/images/train/fc9d450e-5952-11ec-bb26-fbd15bd3264f.jpg: 2 duplicate labels removed\n",
      "WARNING ⚠️ annotations_s/images/train/fc9db5d4-5952-11ec-bba2-1fefbed23b7a.jpg: 3 duplicate labels removed\n",
      "WARNING ⚠️ annotations_s/images/train/fc9e24f6-5952-11ec-bc2b-0310d1ed87ce.jpg: 2 duplicate labels removed\n",
      "WARNING ⚠️ annotations_s/images/train/fca59ab0-5952-11ec-bda0-5b54aaf73508.jpg: 1 duplicate labels removed\n",
      "WARNING ⚠️ annotations_s/images/train/fca5bf68-5952-11ec-bdca-3fecee5f9de6.jpg: 1 duplicate labels removed\n",
      "WARNING ⚠️ annotations_s/images/train/fcab33da-5952-11ec-9a13-6318e04ce048.jpg: 2 duplicate labels removed\n",
      "WARNING ⚠️ annotations_s/images/train/fcabc160-5952-11ec-9ab8-7f96f16aaf23.jpg: 3 duplicate labels removed\n",
      "WARNING ⚠️ annotations_s/images/train/fcac2e84-5952-11ec-9b3b-336f7f6af7af.jpg: 1 duplicate labels removed\n",
      "WARNING ⚠️ annotations_s/images/train/fcad1402-5952-11ec-9c4d-13ee690dfe26.jpg: 1 duplicate labels removed\n",
      "WARNING ⚠️ annotations_s/images/train/fcad5390-5952-11ec-9c99-fbc83208e64f.jpg: 1 duplicate labels removed\n",
      "WARNING ⚠️ annotations_s/images/train/fcaebbfe-5952-11ec-9e4d-abbd423f78a3.jpg: 1 duplicate labels removed\n",
      "WARNING ⚠️ annotations_s/images/train/fcaf9f92-5952-11ec-9f82-5370b633b093.jpg: 4 duplicate labels removed\n",
      "WARNING ⚠️ annotations_s/images/train/fcb8a6aa-5952-11ec-aabf-478f287c39cd.jpg: 1 duplicate labels removed\n",
      "WARNING ⚠️ annotations_s/images/train/fcb9cd46-5952-11ec-ac49-73ebf4e4b5c6.jpg: 1 duplicate labels removed\n",
      "WARNING ⚠️ annotations_s/images/train/fcb9db7e-5952-11ec-ac65-f7ad45cec265.jpg: 1 duplicate labels removed\n",
      "WARNING ⚠️ annotations_s/images/train/fcbab3e6-5952-11ec-ad6d-9bb9f0074b50.jpg: 1 duplicate labels removed\n",
      "WARNING ⚠️ annotations_s/images/train/fcbc5a48-5952-11ec-af83-63c397fa5710.jpg: 1 duplicate labels removed\n",
      "WARNING ⚠️ annotations_s/images/train/fcbd0614-5952-11ec-b05e-735a3185af30.jpg: 2 duplicate labels removed\n",
      "WARNING ⚠️ annotations_s/images/train/fcbd0d94-5952-11ec-b072-0b0b41fe2cd0.jpg: 2 duplicate labels removed\n",
      "WARNING ⚠️ annotations_s/images/train/fcbeb70c-5952-11ec-b27b-0bea50562b9e.jpg: 2 duplicate labels removed\n",
      "WARNING ⚠️ annotations_s/images/train/fcbf7ae8-5952-11ec-b383-f794fbf8b82b.jpg: 2 duplicate labels removed\n",
      "WARNING ⚠️ annotations_s/images/train/fcbfe640-5952-11ec-b41c-3b4106e63b77.jpg: 2 duplicate labels removed\n",
      "WARNING ⚠️ annotations_s/images/train/fcc0d4b0-5952-11ec-b550-bb38e8c6131e.jpg: 2 duplicate labels removed\n",
      "WARNING ⚠️ annotations_s/images/train/fcc87a94-5952-11ec-b6f0-4f7d9e1dde72.jpg: 2 duplicate labels removed\n",
      "WARNING ⚠️ annotations_s/images/train/fcc9c78c-5952-11ec-b865-5fb9d222e505.jpg: 5 duplicate labels removed\n",
      "WARNING ⚠️ annotations_s/images/train/fcca894c-5952-11ec-b91f-9fee41f9d446.jpg: 2 duplicate labels removed\n",
      "WARNING ⚠️ annotations_s/images/train/fcd21b4e-5952-11ec-ba8c-eb6122bec842.jpg: 1 duplicate labels removed\n",
      "WARNING ⚠️ annotations_s/images/train/fcd26d2e-5952-11ec-bade-c37289174fd9.jpg: 4 duplicate labels removed\n",
      "WARNING ⚠️ annotations_s/images/train/fcd4347e-5952-11ec-bcd7-e3d0db53977a.jpg: 3 duplicate labels removed\n",
      "WARNING ⚠️ annotations_s/images/train/fcd66906-5952-11ec-be16-9384dcfecebb.jpg: 2 duplicate labels removed\n",
      "WARNING ⚠️ annotations_s/images/train/fcd6c608-5952-11ec-be6a-67967b404d3a.jpg: 5 duplicate labels removed\n",
      "WARNING ⚠️ annotations_s/images/train/fcd71d7e-5952-11ec-beca-07f179cfcf98.jpg: 3 duplicate labels removed\n",
      "WARNING ⚠️ annotations_s/images/train/fcd7247c-5952-11ec-bedb-bfa68063a364.jpg: 2 duplicate labels removed\n",
      "WARNING ⚠️ annotations_s/images/train/fcd8ad1a-5952-11ec-a1a7-abf5a9e2bb54.jpg: 1 duplicate labels removed\n",
      "WARNING ⚠️ annotations_s/images/train/fcdfb07e-5952-11ec-a983-07fcf1956de5.jpg: 2 duplicate labels removed\n",
      "WARNING ⚠️ annotations_s/images/train/fcdfe238-5952-11ec-a9bd-e3b818cd00ae.jpg: 2 duplicate labels removed\n",
      "WARNING ⚠️ annotations_s/images/train/fcdffce6-5952-11ec-a9e1-7f360266d6ae.jpg: 1 duplicate labels removed\n",
      "WARNING ⚠️ annotations_s/images/train/fce30ff8-5952-11ec-ad74-a3a361390364.jpg: 1 duplicate labels removed\n",
      "WARNING ⚠️ annotations_s/images/train/fce6602c-5952-11ec-b06b-07c29a5b9499.jpg: 4 duplicate labels removed\n",
      "WARNING ⚠️ annotations_s/images/train/fcee20e6-5952-11ec-b98e-e70605944851.jpg: 1 duplicate labels removed\n",
      "WARNING ⚠️ annotations_s/images/train/fcf8aeda-5952-11ec-be48-5b4f364841f1.jpg: 1 duplicate labels removed\n",
      "WARNING ⚠️ annotations_s/images/train/fcfa6d24-5952-11ec-bf9e-fbf4e268f135.jpg: 3 duplicate labels removed\n",
      "WARNING ⚠️ annotations_s/images/train/fcfac530-5952-11ec-9d53-3f87306b7bc0.jpg: 3 duplicate labels removed\n",
      "WARNING ⚠️ annotations_s/images/train/fcfeda76-5952-11ec-a230-fff6dcdba031.jpg: 1 duplicate labels removed\n",
      "WARNING ⚠️ annotations_s/images/train/fcffd638-5952-11ec-a37e-af8dbc80ad99.jpg: 1 duplicate labels removed\n",
      "WARNING ⚠️ annotations_s/images/train/fd011e58-5952-11ec-a4fb-8fd34c3102fa.jpg: 2 duplicate labels removed\n",
      "WARNING ⚠️ annotations_s/images/train/fd01af30-5952-11ec-a5bf-eb954c44cf17.jpg: 2 duplicate labels removed\n",
      "WARNING ⚠️ annotations_s/images/train/fd04e59c-5952-11ec-a98a-ef526d4bda30.jpg: 3 duplicate labels removed\n",
      "WARNING ⚠️ annotations_s/images/train/fd04e9d4-5952-11ec-a991-23f732c8227b.jpg: 3 duplicate labels removed\n",
      "WARNING ⚠️ annotations_s/images/train/fd051e18-5952-11ec-a9d0-e7cc2211f12e.jpg: 2 duplicate labels removed\n",
      "WARNING ⚠️ annotations_s/images/train/fd05217e-5952-11ec-a9d5-8340a9d87a3d.jpg: 2 duplicate labels removed\n",
      "WARNING ⚠️ annotations_s/images/val/fc3d886c-5952-11ec-bcdb-d7519ad21bc8.jpg: 2 duplicate labels removed\n",
      "WARNING ⚠️ annotations_s/images/val/fc3ea224-5952-11ec-bf0a-2f275af30bd6.jpg: 2 duplicate labels removed\n",
      "WARNING ⚠️ annotations_s/images/val/fc3ea814-5952-11ec-bf18-4f1e8f881a41.jpg: 2 duplicate labels removed\n",
      "WARNING ⚠️ annotations_s/images/val/fc3ede2e-5952-11ec-bf9d-a3e63cb46d1c.jpg: 4 duplicate labels removed\n",
      "WARNING ⚠️ annotations_s/images/val/fc426d32-5952-11ec-8b26-efc80d05c8c1.jpg: 2 duplicate labels removed\n",
      "WARNING ⚠️ annotations_s/images/val/fc427476-5952-11ec-8b31-f331aa9edd11.jpg: 4 duplicate labels removed\n",
      "WARNING ⚠️ annotations_s/images/val/fc427a70-5952-11ec-8b40-07f33991eacd.jpg: 1 duplicate labels removed\n",
      "WARNING ⚠️ annotations_s/images/val/fc4470aa-5952-11ec-8f77-57ac9b749a59.jpg: 2 duplicate labels removed\n",
      "WARNING ⚠️ annotations_s/images/val/fc45d3c8-5952-11ec-9071-c746cf5ca73c.jpg: 2 duplicate labels removed\n",
      "WARNING ⚠️ annotations_s/images/val/fc467b52-5952-11ec-9177-a32b57720073.jpg: 2 duplicate labels removed\n",
      "WARNING ⚠️ annotations_s/images/val/fc47734a-5952-11ec-9262-13f8ef139327.jpg: 2 duplicate labels removed\n",
      "WARNING ⚠️ annotations_s/images/val/fc485a58-5952-11ec-9367-d7073ffd5cb7.jpg: 2 duplicate labels removed\n",
      "WARNING ⚠️ annotations_s/images/val/fc4a2a18-5952-11ec-94db-bbfefa31a79d.jpg: 2 duplicate labels removed\n",
      "WARNING ⚠️ annotations_s/images/val/fc4b1932-5952-11ec-9634-03b9c138b374.jpg: 2 duplicate labels removed\n",
      "WARNING ⚠️ annotations_s/images/val/fc987088-5952-11ec-bf6d-93eb0e1eb8a9.jpg: 1 duplicate labels removed\n",
      "WARNING ⚠️ annotations_s/images/val/fc98823a-5952-11ec-bf80-7fdf6c9177ba.jpg: 1 duplicate labels removed\n",
      "WARNING ⚠️ annotations_s/images/val/fc9a49d0-5952-11ec-b757-ffef9f6c7f71.jpg: 1 duplicate labels removed\n",
      "WARNING ⚠️ annotations_s/images/val/fc9c78cc-5952-11ec-ba22-338333c5b7e4.jpg: 1 duplicate labels removed\n",
      "WARNING ⚠️ annotations_s/images/val/fc9e99fe-5952-11ec-bcb2-1fd752b9f109.jpg: 2 duplicate labels removed\n",
      "WARNING ⚠️ annotations_s/images/val/fca5a69a-5952-11ec-bdb4-43e170a96e52.jpg: 1 duplicate labels removed\n",
      "WARNING ⚠️ annotations_s/images/val/fca64e1a-5952-11ec-be7c-7b3a54b135eb.jpg: 3 duplicate labels removed\n",
      "WARNING ⚠️ annotations_s/images/val/fca840bc-5952-11ec-9692-8bc82d5d62c4.jpg: 2 duplicate labels removed\n",
      "WARNING ⚠️ annotations_s/images/val/fca87424-5952-11ec-96d2-471bf60272df.jpg: 3 duplicate labels removed\n",
      "WARNING ⚠️ annotations_s/images/val/fcaa693c-5952-11ec-9903-438f68af897a.jpg: 2 duplicate labels removed\n",
      "WARNING ⚠️ annotations_s/images/val/fcabd790-5952-11ec-9ad1-23afcf4b9cc1.jpg: 2 duplicate labels removed\n",
      "WARNING ⚠️ annotations_s/images/val/fcabddd0-5952-11ec-9ae1-bf12db9dbce3.jpg: 1 duplicate labels removed\n",
      "WARNING ⚠️ annotations_s/images/val/fcaf16b2-5952-11ec-9ebc-0f7193d4aef5.jpg: 1 duplicate labels removed\n",
      "WARNING ⚠️ annotations_s/images/val/fcafba9a-5952-11ec-9fa0-b7fa6a42b218.jpg: 2 duplicate labels removed\n",
      "WARNING ⚠️ annotations_s/images/val/fcb21e52-5952-11ec-a2a0-3ba6571de549.jpg: 1 duplicate labels removed\n",
      "WARNING ⚠️ annotations_s/images/val/fcb39df4-5952-11ec-a47f-f341415327f4.jpg: 1 duplicate labels removed\n",
      "WARNING ⚠️ annotations_s/images/val/fcb5e7c6-5952-11ec-a750-d350ec5470ed.jpg: 2 duplicate labels removed\n",
      "WARNING ⚠️ annotations_s/images/val/fcb606e8-5952-11ec-a770-0388bdcd34c2.jpg: 1 duplicate labels removed\n",
      "WARNING ⚠️ annotations_s/images/val/fcb63f50-5952-11ec-a7be-d3c966f1d793.jpg: 1 duplicate labels removed\n",
      "WARNING ⚠️ annotations_s/images/val/fcbed94e-5952-11ec-b2b7-ab097c23f062.jpg: 3 duplicate labels removed\n",
      "WARNING ⚠️ annotations_s/images/val/fcc0edec-5952-11ec-b572-dfb09aedd06b.jpg: 1 duplicate labels removed\n",
      "WARNING ⚠️ annotations_s/images/val/fcc9bc2e-5952-11ec-b852-27b40cf0a87c.jpg: 5 duplicate labels removed\n",
      "WARNING ⚠️ annotations_s/images/val/fcd1b79e-5952-11ec-ba16-733db70ce958.jpg: 5 duplicate labels removed\n",
      "WARNING ⚠️ annotations_s/images/val/fcd8333a-5952-11ec-bfe7-d718267f2d8e.jpg: 4 duplicate labels removed\n",
      "WARNING ⚠️ annotations_s/images/val/fcd95378-5952-11ec-a256-9f5ea652c3cc.jpg: 3 duplicate labels removed\n",
      "WARNING ⚠️ annotations_s/images/val/fcda9c92-5952-11ec-a3af-6fa41dbaea94.jpg: 5 duplicate labels removed\n",
      "WARNING ⚠️ annotations_s/images/val/fcdda95a-5952-11ec-a736-efbc13520e8f.jpg: 3 duplicate labels removed\n",
      "WARNING ⚠️ annotations_s/images/val/fcde19e4-5952-11ec-a7ab-e72745545c8c.jpg: 5 duplicate labels removed\n",
      "WARNING ⚠️ annotations_s/images/val/fcde305a-5952-11ec-a7c5-1f95e3fcd1dd.jpg: 1 duplicate labels removed\n",
      "WARNING ⚠️ annotations_s/images/val/fcde3212-5952-11ec-a7ca-475810197ea8.jpg: 1 duplicate labels removed\n",
      "WARNING ⚠️ annotations_s/images/val/fcdf7b36-5952-11ec-a94e-23221e22a17d.jpg: 3 duplicate labels removed\n",
      "WARNING ⚠️ annotations_s/images/val/fce8315e-5952-11ec-b271-3fc96b97409f.jpg: 1 duplicate labels removed\n",
      "WARNING ⚠️ annotations_s/images/val/fce839f6-5952-11ec-b27b-f75a579176d4.jpg: 2 duplicate labels removed\n",
      "WARNING ⚠️ annotations_s/images/val/fceb73f0-5952-11ec-b667-bb3981f05b17.jpg: 3 duplicate labels removed\n",
      "WARNING ⚠️ annotations_s/images/val/fced045e-5952-11ec-b865-af1c521aac49.jpg: 2 duplicate labels removed\n",
      "WARNING ⚠️ annotations_s/images/val/fcee3e28-5952-11ec-b9c1-4bf2e7da1957.jpg: 1 duplicate labels removed\n",
      "WARNING ⚠️ annotations_s/images/val/fceff5ec-5952-11ec-bbce-074332da1af5.jpg: 1 duplicate labels removed\n",
      "WARNING ⚠️ annotations_s/images/val/fcf7ebb2-5952-11ec-bd65-d33708c031c5.jpg: 1 duplicate labels removed\n",
      "WARNING ⚠️ annotations_s/images/val/fcf896f2-5952-11ec-be2f-fb1d1f6c00bd.jpg: 1 duplicate labels removed\n",
      "WARNING ⚠️ annotations_s/images/val/fcf90740-5952-11ec-beb2-878a325d0ac1.jpg: 1 duplicate labels removed\n",
      "WARNING ⚠️ annotations_s/images/val/fcf9ae48-5952-11ec-bf8c-07cb1c60bf03.jpg: 1 duplicate labels removed\n",
      "WARNING ⚠️ annotations_s/images/val/fcfe73ec-5952-11ec-a1ad-4f362f37fd36.jpg: 1 duplicate labels removed\n",
      "WARNING ⚠️ annotations_s/images/val/fd000b08-5952-11ec-a3c7-7feaa124be04.jpg: 2 duplicate labels removed\n",
      "WARNING ⚠️ annotations_s/images/val/fd01a72e-5952-11ec-a5ae-97d9ce129500.jpg: 2 duplicate labels removed\n",
      "WARNING ⚠️ annotations_s/images/val/fd061b10-5952-11ec-aae5-ebe28cc4d72c.jpg: 1 duplicate labels removed\n",
      "WARNING ⚠️ annotations_s/images/val/fd0db8e8-5952-11ec-ac33-4f29a1fdc442.jpg: 1 duplicate labels removed\n",
      "WARNING ⚠️ annotations_s/images/val/fd0e526c-5952-11ec-acf2-7bbbb725e4ca.jpg: 1 duplicate labels removed\n",
      "New cache created: annotations_s/labels/train.cache\n"
     ]
    },
    {
     "name": "stderr",
     "output_type": "stream",
     "text": [
      "\n"
     ]
    }
   ],
   "source": [
    "ds = YOLODataset(data=data,img_path='annotations_s')"
   ]
  },
  {
   "cell_type": "code",
   "execution_count": 16,
   "id": "faaa199b-0c9d-4fc0-b759-17aaf14adf73",
   "metadata": {},
   "outputs": [],
   "source": [
    "from ultralytics.data import build_dataloader\n",
    "dl = build_dataloader(ds,batch=8,workers=8)"
   ]
  },
  {
   "cell_type": "code",
   "execution_count": 17,
   "id": "35aec451-f58c-4c55-8b03-af4e3e027c95",
   "metadata": {},
   "outputs": [],
   "source": [
    "model = YOLO(\"detect4/train/weights/best.pt\")\n",
    "\n",
    "# model_stq.model.model = q_stat(model.model.model,dl,8,'cpu')"
   ]
  },
  {
   "cell_type": "code",
   "execution_count": 18,
   "id": "e3377dde-1be7-4cb8-8eb9-d934e500aad6",
   "metadata": {},
   "outputs": [
    {
     "name": "stdout",
     "output_type": "stream",
     "text": [
      "Ultralytics 8.3.39 🚀 Python-3.12.7 torch-2.4.1+cpu CPU (AMD Ryzen 7 7730U with Radeon Graphics)\n",
      "Model summary (fused): 268 layers, 68,156,310 parameters, 0 gradients, 257.6 GFLOPs\n",
      "\n",
      "\u001b[34m\u001b[1mPyTorch:\u001b[0m starting from 'detect4/train/weights/best.pt' with input shape (1, 3, 640, 640) BCHW and output shape(s) (1, 38, 8400) (130.4 MB)\n",
      "\n",
      "\u001b[34m\u001b[1mONNX:\u001b[0m starting export with onnx 1.17.0 opset 19...\n",
      "\u001b[34m\u001b[1mONNX:\u001b[0m slimming with onnxslim 0.1.43...\n",
      "\u001b[34m\u001b[1mONNX:\u001b[0m export success ✅ 3.9s, saved as 'detect4/train/weights/best.onnx' (260.2 MB)\n",
      "\n",
      "Export complete (6.1s)\n",
      "Results saved to \u001b[1m/home/void/ml_oleg/detect4/train/weights\u001b[0m\n",
      "Predict:         yolo predict task=detect model=detect4/train/weights/best.onnx imgsz=640  \n",
      "Validate:        yolo val task=detect model=detect4/train/weights/best.onnx imgsz=640 data=test.yaml  \n",
      "Visualize:       https://netron.app\n"
     ]
    },
    {
     "data": {
      "text/plain": [
       "'detect4/train/weights/best.onnx'"
      ]
     },
     "execution_count": 18,
     "metadata": {},
     "output_type": "execute_result"
    }
   ],
   "source": [
    "model.export(format = 'onnx') # exports the model in '.onnx' format"
   ]
  },
  {
   "cell_type": "code",
   "execution_count": 19,
   "id": "ef99eaf7-9fae-46b8-81cf-c2ad59ab6670",
   "metadata": {},
   "outputs": [
    {
     "name": "stderr",
     "output_type": "stream",
     "text": [
      "WARNING:root:Please consider to run pre-processing before quantization. Refer to example: https://github.com/microsoft/onnxruntime-inference-examples/blob/main/quantization/image_classification/cpu/ReadMe.md \n"
     ]
    }
   ],
   "source": [
    "from onnxruntime.quantization import quantize_dynamic, QuantType\n",
    "\n",
    "model_fp32 = 'detect4/train/weights/best.onnx'\n",
    "model_int8 = 'dynamic_quantized.onnx'\n",
    "\n",
    "# Quantize \n",
    "quantize_dynamic(model_fp32, model_int8, weight_type=QuantType.QUInt8)"
   ]
  },
  {
   "cell_type": "code",
   "execution_count": 20,
   "id": "4651bab3-54df-40c4-a94a-ae0056f3d596",
   "metadata": {},
   "outputs": [],
   "source": [
    "# ls annotations/images/test/"
   ]
  },
  {
   "cell_type": "code",
   "execution_count": 21,
   "id": "85dca20f-f0c4-4cb8-a524-78c195ebbf5f",
   "metadata": {},
   "outputs": [],
   "source": [
    "import numpy as np\n",
    "from onnxruntime.quantization import CalibrationDataReader, quantize_static, QuantType, QuantFormat\n",
    "import os \n",
    "import cv2\n",
    "class ImageCalibrationDataReader(CalibrationDataReader):\n",
    "    def __init__(self, image_paths):\n",
    "        self.image_paths = image_paths\n",
    "        self.idx = 0\n",
    "        self.input_name = \"images\"\n",
    "\n",
    "    def preprocess(self, frame):\n",
    "        frame = cv2.imread(frame)\n",
    "        X = cv2.resize(frame, (640, 640))\n",
    "        image_data = np.array(X).astype(np.float32) / 255.0  \n",
    "        image_data = np.transpose(image_data, (2, 0, 1))  \n",
    "        image_data = np.expand_dims(image_data, axis=0)  \n",
    "        return image_data\n",
    "\n",
    "    def get_next(self):\n",
    "        if self.idx >= len(self.image_paths):\n",
    "            return None\n",
    "\n",
    "        image_path = self.image_paths[self.idx]\n",
    "        input_data = self.preprocess(image_path)\n",
    "        self.idx += 1\n",
    "        return {self.input_name: input_data}\n",
    "\n",
    "calibration_image_paths  = os.listdir('annotations/images/test/')[:100]\n",
    "calibration_image_paths =list(map(lambda x: f'annotations/images/test/{x}',calibration_image_paths))\n",
    "\n"
   ]
  },
  {
   "cell_type": "code",
   "execution_count": 22,
   "id": "be7e2c85-2e1a-47d0-9d5d-422506dc73f0",
   "metadata": {},
   "outputs": [],
   "source": [
    "\n",
    "calibration_data_reader = ImageCalibrationDataReader(calibration_image_paths)"
   ]
  },
  {
   "cell_type": "code",
   "execution_count": 23,
   "id": "fcf21665-0a5b-4ed3-8fbf-d40ce0f61283",
   "metadata": {},
   "outputs": [
    {
     "name": "stderr",
     "output_type": "stream",
     "text": [
      "WARNING:root:Please consider to run pre-processing before quantization. Refer to example: https://github.com/microsoft/onnxruntime-inference-examples/blob/main/quantization/image_classification/cpu/ReadMe.md \n",
      "WARNING:root:Please consider pre-processing before quantization. See https://github.com/microsoft/onnxruntime-inference-examples/blob/main/quantization/image_classification/cpu/ReadMe.md \n"
     ]
    }
   ],
   "source": [
    "quantize_static('detect4/train/weights/best.onnx', \"static_quantized.onnx\",\n",
    "                weight_type=QuantType.QInt8,\n",
    "                activation_type=QuantType.QUInt8,\n",
    "                calibration_data_reader=calibration_data_reader,\n",
    "                quant_format=QuantFormat.QDQ,\n",
    "                nodes_to_exclude=['/model.22/Concat_3', '/model.22/Split', '/model.22/Sigmoid'\n",
    "                                 '/model.22/dfl/Reshape', '/model.22/dfl/Transpose', '/model.22/dfl/Softmax', \n",
    "                                 '/model.22/dfl/conv/Conv', '/model.22/dfl/Reshape_1', '/model.22/Slice_1',\n",
    "                                 '/model.22/Slice', '/model.22/Add_1', '/model.22/Sub', '/model.22/Div_1',\n",
    "                                  '/model.22/Concat_4', '/model.22/Mul_2', '/model.22/Concat_5'],\n",
    "                per_channel=False,\n",
    "                reduce_range=True,)"
   ]
  },
  {
   "cell_type": "code",
   "execution_count": 24,
   "id": "2073e368-5e9f-415e-93db-0d0ee1104380",
   "metadata": {},
   "outputs": [
    {
     "name": "stdout",
     "output_type": "stream",
     "text": [
      "alannn.ipynb\t\t\t nets\n",
      "annotations\t\t\t out.json\n",
      "annotations_s\t\t\t prepare-data-for-yolo-Copy1.ipynb\n",
      "annotations_s.zip\t\t prepare-data-for-yolo-Copy2.ipynb\n",
      "classic.ipynb\t\t\t prepare-data-for-yolo.ipynb\n",
      "confusion_matrix_normalized.png  __pycache__\n",
      "data.csv\t\t\t qa_test.ipynb\n",
      "dert_kaggle.ipynb\t\t req.txt\n",
      "detect\t\t\t\t static_quantized.onnx\n",
      "detect2\t\t\t\t subsamples.ipynb\n",
      "detect3\t\t\t\t testc.ipynb\n",
      "detect4\t\t\t\t test.json\n",
      "detr.ipynb\t\t\t test.png\n",
      "detr.py\t\t\t\t test_qa.ipynb\n",
      "donuts-found.jpg\t\t test.yaml\n",
      "dynamic_quantized.onnx\t\t tranformers.py\n",
      "eda.ipynb\t\t\t utils\n",
      "evaluate.py\t\t\t weights\n",
      "hw_02_pruning_solution.ipynb\t yolo.ipynb\n",
      "img\t\t\t\t yolo-second-epoch.ipynb\n",
      "img.zip\t\t\t\t yolo-train-fishai.ipynb\n",
      "map_ids.json\n"
     ]
    }
   ],
   "source": [
    "!ls"
   ]
  },
  {
   "cell_type": "code",
   "execution_count": null,
   "id": "eafbea08-c03b-4e32-b419-a4ff6152a0a5",
   "metadata": {},
   "outputs": [],
   "source": []
  }
 ],
 "metadata": {
  "kernelspec": {
   "display_name": "venv",
   "language": "python",
   "name": "venv"
  },
  "language_info": {
   "codemirror_mode": {
    "name": "ipython",
    "version": 3
   },
   "file_extension": ".py",
   "mimetype": "text/x-python",
   "name": "python",
   "nbconvert_exporter": "python",
   "pygments_lexer": "ipython3",
   "version": "3.12.7"
  }
 },
 "nbformat": 4,
 "nbformat_minor": 5
}
