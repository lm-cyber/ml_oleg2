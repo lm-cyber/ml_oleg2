{
 "cells": [
  {
   "cell_type": "code",
   "execution_count": 1,
   "id": "0035bb36-60cc-49a7-9702-6a40be8b9da3",
   "metadata": {},
   "outputs": [
    {
     "name": "stdout",
     "output_type": "stream",
     "text": [
      "WARNING ⚠️ Unable to automatically guess model task, assuming 'task=detect'. Explicitly define task for your model, i.e. 'task=detect', 'segment', 'classify','pose' or 'obb'.\n"
     ]
    }
   ],
   "source": [
    "from ultralytics import YOLO\n",
    "\n",
    "model = YOLO(\"detect4/train/weights/best.pt\")  # You can choose a different variant like 'yolov8n.pt' or 'yolov8m.pt'\n",
    "model_onnx = YOLO(\"detect4/train/weights/best.onnx\")  # You can choose a different variant like 'yolov8n.pt' or 'yolov8m.pt'\n",
    "\n"
   ]
  },
  {
   "cell_type": "code",
   "execution_count": 2,
   "id": "e104f0fe-4a64-4a62-acde-50bb9f30679d",
   "metadata": {},
   "outputs": [
    {
     "name": "stdout",
     "output_type": "stream",
     "text": [
      "WARNING ⚠️ Unable to automatically guess model task, assuming 'task=detect'. Explicitly define task for your model, i.e. 'task=detect', 'segment', 'classify','pose' or 'obb'.\n"
     ]
    }
   ],
   "source": [
    "dq_model = YOLO(\"dynamic_quantized.onnx\")  # You can choose a different variant like 'yolov8n.pt' or 'yolov8m.pt'\n"
   ]
  },
  {
   "cell_type": "code",
   "execution_count": 3,
   "id": "09d50fc9-bf4d-4e1f-9629-1c47698c2643",
   "metadata": {},
   "outputs": [
    {
     "name": "stdout",
     "output_type": "stream",
     "text": [
      "WARNING ⚠️ Unable to automatically guess model task, assuming 'task=detect'. Explicitly define task for your model, i.e. 'task=detect', 'segment', 'classify','pose' or 'obb'.\n"
     ]
    }
   ],
   "source": [
    "sq_model = YOLO(\"static_quantized.onnx\")  # You can choose a different variant like 'yolov8n.pt' or 'yolov8m.pt'\n"
   ]
  },
  {
   "cell_type": "code",
   "execution_count": 4,
   "id": "8a962c6a-5c4d-4ca6-9db2-469fc42b45b3",
   "metadata": {},
   "outputs": [
    {
     "name": "stdout",
     "output_type": "stream",
     "text": [
      "alannn.ipynb\t\t\t nets\n",
      "annotations\t\t\t out.json\n",
      "annotations_s\t\t\t prepare-data-for-yolo-Copy1.ipynb\n",
      "annotations_s.zip\t\t prepare-data-for-yolo-Copy2.ipynb\n",
      "classic.ipynb\t\t\t prepare-data-for-yolo.ipynb\n",
      "confusion_matrix_normalized.png  __pycache__\n",
      "data.csv\t\t\t qa_test.ipynb\n",
      "dert_kaggle.ipynb\t\t req.txt\n",
      "detect\t\t\t\t runs\n",
      "detect2\t\t\t\t static_quantized.onnx\n",
      "detect3\t\t\t\t subsamples.ipynb\n",
      "detect4\t\t\t\t testc.ipynb\n",
      "detr.ipynb\t\t\t test.json\n",
      "detr.py\t\t\t\t test.png\n",
      "donuts-found.jpg\t\t test_qa.ipynb\n",
      "dynamic_quantized.onnx\t\t test.yaml\n",
      "eda.ipynb\t\t\t tranformers.py\n",
      "evaluate.py\t\t\t utils\n",
      "hw_02_pruning_solution.ipynb\t weights\n",
      "img\t\t\t\t yolo.ipynb\n",
      "img.zip\t\t\t\t yolo-second-epoch.ipynb\n",
      "map_ids.json\t\t\t yolo-train-fishai.ipynb\n"
     ]
    }
   ],
   "source": [
    "!ls"
   ]
  },
  {
   "cell_type": "code",
   "execution_count": 5,
   "id": "4b18b6eb-0f1e-4425-b680-c6cb08530c20",
   "metadata": {},
   "outputs": [],
   "source": [
    "str_data = \"\"\"\n",
    "train: /home/void/ml_oleg/annotations_s/images/train  # Path to training images\n",
    "val: /home/void/ml_oleg/annotations_s/images/val      # Path to validation images\n",
    "\n",
    "labels:\n",
    "  train: /home/void/ml_oleg/annotations_s/labels/train  # Path to training labels\n",
    "  val: /home/void/ml_oleg/annotations_s/labels/val      # Path to validation labels\n",
    "\n",
    "\n",
    "names:\n",
    "  0: Long snouted lancetfish\n",
    "  1: Roudie scolar\n",
    "  2: Marlin\n",
    "  3: Swordfish\n",
    "  4: Great barracuda\n",
    "  5: Thresher shark\n",
    "  6: Lancetfish\n",
    "  7: Pomfret\n",
    "  8: Tuna\n",
    "  9: Opah\n",
    "  10: Pelagic stingray\n",
    "  11: Mahi mahi\n",
    "  12: Striped marlin\n",
    "  13: Wahoo\n",
    "  14: No fish\n",
    "  15: Human\n",
    "  16: Skipjack tuna\n",
    "  17: Yellowfin tuna\n",
    "  18: Unknown\n",
    "  19: Blue marlin\n",
    "  20: Oilfish\n",
    "  21: Bigeye tuna\n",
    "  22: Snake mackerel\n",
    "  23: Indo Pacific sailfish\n",
    "  24: Water\n",
    "  25: Sickle pomfret\n",
    "  26: Albacore\n",
    "  27: Brama\n",
    "  28: Black marlin\n",
    "  29: Shortbill spearfish\n",
    "  30: Mola mola\n",
    "  31: Rainbow runner\n",
    "  32: Escolar\n",
    "  33: Shark\n",
    "\"\"\"\n",
    "with open('test.yaml','w') as f:\n",
    "    f.write(str_data)\n"
   ]
  },
  {
   "cell_type": "code",
   "execution_count": 6,
   "id": "8bc74a65-e57f-4723-b79f-9001eb84161e",
   "metadata": {
    "scrolled": true
   },
   "outputs": [
    {
     "name": "stdout",
     "output_type": "stream",
     "text": [
      "/home/void/ml_oleg\n"
     ]
    }
   ],
   "source": [
    "!pwd"
   ]
  },
  {
   "cell_type": "code",
   "execution_count": 7,
   "id": "403f630a-37c0-4e2c-92a3-0695806f125a",
   "metadata": {},
   "outputs": [
    {
     "name": "stdout",
     "output_type": "stream",
     "text": [
      "Ultralytics 8.3.39 🚀 Python-3.12.7 torch-2.4.1+cpu CPU (AMD Ryzen 7 7730U with Radeon Graphics)\n",
      "Model summary (fused): 268 layers, 68,156,310 parameters, 0 gradients, 257.6 GFLOPs\n"
     ]
    },
    {
     "name": "stderr",
     "output_type": "stream",
     "text": [
      "\u001b[34m\u001b[1mval: \u001b[0mScanning /home/void/ml_oleg/annotations_s/labels/val... 1000 images, 0 backgrounds, 0 corrupt: 100%|██████████| 1000/1000 [00:00<00:00, 3870.91it/s]\u001b[0m"
     ]
    },
    {
     "name": "stdout",
     "output_type": "stream",
     "text": [
      "\u001b[34m\u001b[1mval: \u001b[0mWARNING ⚠️ /home/void/ml_oleg/annotations_s/images/val/fc3d886c-5952-11ec-bcdb-d7519ad21bc8.jpg: 2 duplicate labels removed\n",
      "\u001b[34m\u001b[1mval: \u001b[0mWARNING ⚠️ /home/void/ml_oleg/annotations_s/images/val/fc3ea224-5952-11ec-bf0a-2f275af30bd6.jpg: 2 duplicate labels removed\n",
      "\u001b[34m\u001b[1mval: \u001b[0mWARNING ⚠️ /home/void/ml_oleg/annotations_s/images/val/fc3ea814-5952-11ec-bf18-4f1e8f881a41.jpg: 2 duplicate labels removed\n",
      "\u001b[34m\u001b[1mval: \u001b[0mWARNING ⚠️ /home/void/ml_oleg/annotations_s/images/val/fc3ede2e-5952-11ec-bf9d-a3e63cb46d1c.jpg: 4 duplicate labels removed\n",
      "\u001b[34m\u001b[1mval: \u001b[0mWARNING ⚠️ /home/void/ml_oleg/annotations_s/images/val/fc426d32-5952-11ec-8b26-efc80d05c8c1.jpg: 2 duplicate labels removed\n",
      "\u001b[34m\u001b[1mval: \u001b[0mWARNING ⚠️ /home/void/ml_oleg/annotations_s/images/val/fc427476-5952-11ec-8b31-f331aa9edd11.jpg: 4 duplicate labels removed\n",
      "\u001b[34m\u001b[1mval: \u001b[0mWARNING ⚠️ /home/void/ml_oleg/annotations_s/images/val/fc427a70-5952-11ec-8b40-07f33991eacd.jpg: 1 duplicate labels removed\n",
      "\u001b[34m\u001b[1mval: \u001b[0mWARNING ⚠️ /home/void/ml_oleg/annotations_s/images/val/fc4470aa-5952-11ec-8f77-57ac9b749a59.jpg: 2 duplicate labels removed\n",
      "\u001b[34m\u001b[1mval: \u001b[0mWARNING ⚠️ /home/void/ml_oleg/annotations_s/images/val/fc45d3c8-5952-11ec-9071-c746cf5ca73c.jpg: 2 duplicate labels removed\n",
      "\u001b[34m\u001b[1mval: \u001b[0mWARNING ⚠️ /home/void/ml_oleg/annotations_s/images/val/fc467b52-5952-11ec-9177-a32b57720073.jpg: 2 duplicate labels removed\n",
      "\u001b[34m\u001b[1mval: \u001b[0mWARNING ⚠️ /home/void/ml_oleg/annotations_s/images/val/fc47734a-5952-11ec-9262-13f8ef139327.jpg: 2 duplicate labels removed\n",
      "\u001b[34m\u001b[1mval: \u001b[0mWARNING ⚠️ /home/void/ml_oleg/annotations_s/images/val/fc485a58-5952-11ec-9367-d7073ffd5cb7.jpg: 2 duplicate labels removed\n",
      "\u001b[34m\u001b[1mval: \u001b[0mWARNING ⚠️ /home/void/ml_oleg/annotations_s/images/val/fc4a2a18-5952-11ec-94db-bbfefa31a79d.jpg: 2 duplicate labels removed\n",
      "\u001b[34m\u001b[1mval: \u001b[0mWARNING ⚠️ /home/void/ml_oleg/annotations_s/images/val/fc4b1932-5952-11ec-9634-03b9c138b374.jpg: 2 duplicate labels removed\n",
      "\u001b[34m\u001b[1mval: \u001b[0mWARNING ⚠️ /home/void/ml_oleg/annotations_s/images/val/fc987088-5952-11ec-bf6d-93eb0e1eb8a9.jpg: 1 duplicate labels removed\n",
      "\u001b[34m\u001b[1mval: \u001b[0mWARNING ⚠️ /home/void/ml_oleg/annotations_s/images/val/fc98823a-5952-11ec-bf80-7fdf6c9177ba.jpg: 1 duplicate labels removed\n",
      "\u001b[34m\u001b[1mval: \u001b[0mWARNING ⚠️ /home/void/ml_oleg/annotations_s/images/val/fc9a49d0-5952-11ec-b757-ffef9f6c7f71.jpg: 1 duplicate labels removed\n",
      "\u001b[34m\u001b[1mval: \u001b[0mWARNING ⚠️ /home/void/ml_oleg/annotations_s/images/val/fc9c78cc-5952-11ec-ba22-338333c5b7e4.jpg: 1 duplicate labels removed\n",
      "\u001b[34m\u001b[1mval: \u001b[0mWARNING ⚠️ /home/void/ml_oleg/annotations_s/images/val/fc9e99fe-5952-11ec-bcb2-1fd752b9f109.jpg: 2 duplicate labels removed\n",
      "\u001b[34m\u001b[1mval: \u001b[0mWARNING ⚠️ /home/void/ml_oleg/annotations_s/images/val/fca5a69a-5952-11ec-bdb4-43e170a96e52.jpg: 1 duplicate labels removed\n",
      "\u001b[34m\u001b[1mval: \u001b[0mWARNING ⚠️ /home/void/ml_oleg/annotations_s/images/val/fca64e1a-5952-11ec-be7c-7b3a54b135eb.jpg: 3 duplicate labels removed\n",
      "\u001b[34m\u001b[1mval: \u001b[0mWARNING ⚠️ /home/void/ml_oleg/annotations_s/images/val/fca840bc-5952-11ec-9692-8bc82d5d62c4.jpg: 2 duplicate labels removed\n",
      "\u001b[34m\u001b[1mval: \u001b[0mWARNING ⚠️ /home/void/ml_oleg/annotations_s/images/val/fca87424-5952-11ec-96d2-471bf60272df.jpg: 3 duplicate labels removed\n",
      "\u001b[34m\u001b[1mval: \u001b[0mWARNING ⚠️ /home/void/ml_oleg/annotations_s/images/val/fcaa693c-5952-11ec-9903-438f68af897a.jpg: 2 duplicate labels removed\n",
      "\u001b[34m\u001b[1mval: \u001b[0mWARNING ⚠️ /home/void/ml_oleg/annotations_s/images/val/fcabd790-5952-11ec-9ad1-23afcf4b9cc1.jpg: 2 duplicate labels removed\n",
      "\u001b[34m\u001b[1mval: \u001b[0mWARNING ⚠️ /home/void/ml_oleg/annotations_s/images/val/fcabddd0-5952-11ec-9ae1-bf12db9dbce3.jpg: 1 duplicate labels removed\n",
      "\u001b[34m\u001b[1mval: \u001b[0mWARNING ⚠️ /home/void/ml_oleg/annotations_s/images/val/fcaf16b2-5952-11ec-9ebc-0f7193d4aef5.jpg: 1 duplicate labels removed\n",
      "\u001b[34m\u001b[1mval: \u001b[0mWARNING ⚠️ /home/void/ml_oleg/annotations_s/images/val/fcafba9a-5952-11ec-9fa0-b7fa6a42b218.jpg: 2 duplicate labels removed\n",
      "\u001b[34m\u001b[1mval: \u001b[0mWARNING ⚠️ /home/void/ml_oleg/annotations_s/images/val/fcb21e52-5952-11ec-a2a0-3ba6571de549.jpg: 1 duplicate labels removed\n",
      "\u001b[34m\u001b[1mval: \u001b[0mWARNING ⚠️ /home/void/ml_oleg/annotations_s/images/val/fcb39df4-5952-11ec-a47f-f341415327f4.jpg: 1 duplicate labels removed\n",
      "\u001b[34m\u001b[1mval: \u001b[0mWARNING ⚠️ /home/void/ml_oleg/annotations_s/images/val/fcb5e7c6-5952-11ec-a750-d350ec5470ed.jpg: 2 duplicate labels removed\n",
      "\u001b[34m\u001b[1mval: \u001b[0mWARNING ⚠️ /home/void/ml_oleg/annotations_s/images/val/fcb606e8-5952-11ec-a770-0388bdcd34c2.jpg: 1 duplicate labels removed\n",
      "\u001b[34m\u001b[1mval: \u001b[0mWARNING ⚠️ /home/void/ml_oleg/annotations_s/images/val/fcb63f50-5952-11ec-a7be-d3c966f1d793.jpg: 1 duplicate labels removed\n",
      "\u001b[34m\u001b[1mval: \u001b[0mWARNING ⚠️ /home/void/ml_oleg/annotations_s/images/val/fcbed94e-5952-11ec-b2b7-ab097c23f062.jpg: 3 duplicate labels removed\n",
      "\u001b[34m\u001b[1mval: \u001b[0mWARNING ⚠️ /home/void/ml_oleg/annotations_s/images/val/fcc0edec-5952-11ec-b572-dfb09aedd06b.jpg: 1 duplicate labels removed\n",
      "\u001b[34m\u001b[1mval: \u001b[0mWARNING ⚠️ /home/void/ml_oleg/annotations_s/images/val/fcc9bc2e-5952-11ec-b852-27b40cf0a87c.jpg: 5 duplicate labels removed\n",
      "\u001b[34m\u001b[1mval: \u001b[0mWARNING ⚠️ /home/void/ml_oleg/annotations_s/images/val/fcd1b79e-5952-11ec-ba16-733db70ce958.jpg: 5 duplicate labels removed\n",
      "\u001b[34m\u001b[1mval: \u001b[0mWARNING ⚠️ /home/void/ml_oleg/annotations_s/images/val/fcd8333a-5952-11ec-bfe7-d718267f2d8e.jpg: 4 duplicate labels removed\n",
      "\u001b[34m\u001b[1mval: \u001b[0mWARNING ⚠️ /home/void/ml_oleg/annotations_s/images/val/fcd95378-5952-11ec-a256-9f5ea652c3cc.jpg: 3 duplicate labels removed\n",
      "\u001b[34m\u001b[1mval: \u001b[0mWARNING ⚠️ /home/void/ml_oleg/annotations_s/images/val/fcda9c92-5952-11ec-a3af-6fa41dbaea94.jpg: 5 duplicate labels removed\n",
      "\u001b[34m\u001b[1mval: \u001b[0mWARNING ⚠️ /home/void/ml_oleg/annotations_s/images/val/fcdda95a-5952-11ec-a736-efbc13520e8f.jpg: 3 duplicate labels removed\n",
      "\u001b[34m\u001b[1mval: \u001b[0mWARNING ⚠️ /home/void/ml_oleg/annotations_s/images/val/fcde19e4-5952-11ec-a7ab-e72745545c8c.jpg: 5 duplicate labels removed\n",
      "\u001b[34m\u001b[1mval: \u001b[0mWARNING ⚠️ /home/void/ml_oleg/annotations_s/images/val/fcde305a-5952-11ec-a7c5-1f95e3fcd1dd.jpg: 1 duplicate labels removed\n",
      "\u001b[34m\u001b[1mval: \u001b[0mWARNING ⚠️ /home/void/ml_oleg/annotations_s/images/val/fcde3212-5952-11ec-a7ca-475810197ea8.jpg: 1 duplicate labels removed\n",
      "\u001b[34m\u001b[1mval: \u001b[0mWARNING ⚠️ /home/void/ml_oleg/annotations_s/images/val/fcdf7b36-5952-11ec-a94e-23221e22a17d.jpg: 3 duplicate labels removed\n",
      "\u001b[34m\u001b[1mval: \u001b[0mWARNING ⚠️ /home/void/ml_oleg/annotations_s/images/val/fce8315e-5952-11ec-b271-3fc96b97409f.jpg: 1 duplicate labels removed\n",
      "\u001b[34m\u001b[1mval: \u001b[0mWARNING ⚠️ /home/void/ml_oleg/annotations_s/images/val/fce839f6-5952-11ec-b27b-f75a579176d4.jpg: 2 duplicate labels removed\n",
      "\u001b[34m\u001b[1mval: \u001b[0mWARNING ⚠️ /home/void/ml_oleg/annotations_s/images/val/fceb73f0-5952-11ec-b667-bb3981f05b17.jpg: 3 duplicate labels removed\n",
      "\u001b[34m\u001b[1mval: \u001b[0mWARNING ⚠️ /home/void/ml_oleg/annotations_s/images/val/fced045e-5952-11ec-b865-af1c521aac49.jpg: 2 duplicate labels removed\n",
      "\u001b[34m\u001b[1mval: \u001b[0mWARNING ⚠️ /home/void/ml_oleg/annotations_s/images/val/fcee3e28-5952-11ec-b9c1-4bf2e7da1957.jpg: 1 duplicate labels removed\n",
      "\u001b[34m\u001b[1mval: \u001b[0mWARNING ⚠️ /home/void/ml_oleg/annotations_s/images/val/fceff5ec-5952-11ec-bbce-074332da1af5.jpg: 1 duplicate labels removed\n",
      "\u001b[34m\u001b[1mval: \u001b[0mWARNING ⚠️ /home/void/ml_oleg/annotations_s/images/val/fcf7ebb2-5952-11ec-bd65-d33708c031c5.jpg: 1 duplicate labels removed\n",
      "\u001b[34m\u001b[1mval: \u001b[0mWARNING ⚠️ /home/void/ml_oleg/annotations_s/images/val/fcf896f2-5952-11ec-be2f-fb1d1f6c00bd.jpg: 1 duplicate labels removed\n",
      "\u001b[34m\u001b[1mval: \u001b[0mWARNING ⚠️ /home/void/ml_oleg/annotations_s/images/val/fcf90740-5952-11ec-beb2-878a325d0ac1.jpg: 1 duplicate labels removed\n",
      "\u001b[34m\u001b[1mval: \u001b[0mWARNING ⚠️ /home/void/ml_oleg/annotations_s/images/val/fcf9ae48-5952-11ec-bf8c-07cb1c60bf03.jpg: 1 duplicate labels removed\n",
      "\u001b[34m\u001b[1mval: \u001b[0mWARNING ⚠️ /home/void/ml_oleg/annotations_s/images/val/fcfe73ec-5952-11ec-a1ad-4f362f37fd36.jpg: 1 duplicate labels removed\n",
      "\u001b[34m\u001b[1mval: \u001b[0mWARNING ⚠️ /home/void/ml_oleg/annotations_s/images/val/fd000b08-5952-11ec-a3c7-7feaa124be04.jpg: 2 duplicate labels removed\n",
      "\u001b[34m\u001b[1mval: \u001b[0mWARNING ⚠️ /home/void/ml_oleg/annotations_s/images/val/fd01a72e-5952-11ec-a5ae-97d9ce129500.jpg: 2 duplicate labels removed\n",
      "\u001b[34m\u001b[1mval: \u001b[0mWARNING ⚠️ /home/void/ml_oleg/annotations_s/images/val/fd061b10-5952-11ec-aae5-ebe28cc4d72c.jpg: 1 duplicate labels removed\n",
      "\u001b[34m\u001b[1mval: \u001b[0mWARNING ⚠️ /home/void/ml_oleg/annotations_s/images/val/fd0db8e8-5952-11ec-ac33-4f29a1fdc442.jpg: 1 duplicate labels removed\n",
      "\u001b[34m\u001b[1mval: \u001b[0mWARNING ⚠️ /home/void/ml_oleg/annotations_s/images/val/fd0e526c-5952-11ec-acf2-7bbbb725e4ca.jpg: 1 duplicate labels removed\n",
      "\u001b[34m\u001b[1mval: \u001b[0mNew cache created: /home/void/ml_oleg/annotations_s/labels/val.cache\n"
     ]
    },
    {
     "name": "stderr",
     "output_type": "stream",
     "text": [
      "\n",
      "                 Class     Images  Instances      Box(P          R      mAP50  mAP50-95): 100%|██████████| 1000/1000 [06:36<00:00,  2.52it/s]\n"
     ]
    },
    {
     "name": "stdout",
     "output_type": "stream",
     "text": [
      "                   all       1000       3578       0.62      0.437      0.506      0.354\n",
      "Speed: 0.3ms preprocess, 386.7ms inference, 0.0ms loss, 0.5ms postprocess per image\n",
      "Results saved to \u001b[1mruns/detect/val\u001b[0m\n"
     ]
    }
   ],
   "source": [
    "metrics = model.val(data='test.yaml',batch=1,verbose=False)"
   ]
  },
  {
   "cell_type": "code",
   "execution_count": 8,
   "id": "b68068d3-5a30-4824-abe4-af2e190d8fd8",
   "metadata": {},
   "outputs": [
    {
     "name": "stdout",
     "output_type": "stream",
     "text": [
      "Ultralytics 8.3.39 🚀 Python-3.12.7 torch-2.4.1+cpu CPU (AMD Ryzen 7 7730U with Radeon Graphics)\n",
      "Loading detect4/train/weights/best.onnx for ONNX Runtime inference...\n",
      "Preferring ONNX Runtime AzureExecutionProvider\n",
      "Setting batch=1 input of shape (1, 3, 640, 640)\n"
     ]
    },
    {
     "name": "stderr",
     "output_type": "stream",
     "text": [
      "\u001b[34m\u001b[1mval: \u001b[0mScanning /home/void/ml_oleg/annotations_s/labels/val.cache... 1000 images, 0 backgrounds, 0 corrupt: 100%|██████████| 1000/1000 [00:00<?, ?it/s]\u001b[0m"
     ]
    },
    {
     "name": "stdout",
     "output_type": "stream",
     "text": [
      "\u001b[34m\u001b[1mval: \u001b[0mWARNING ⚠️ /home/void/ml_oleg/annotations_s/images/val/fc3d886c-5952-11ec-bcdb-d7519ad21bc8.jpg: 2 duplicate labels removed\n",
      "\u001b[34m\u001b[1mval: \u001b[0mWARNING ⚠️ /home/void/ml_oleg/annotations_s/images/val/fc3ea224-5952-11ec-bf0a-2f275af30bd6.jpg: 2 duplicate labels removed\n",
      "\u001b[34m\u001b[1mval: \u001b[0mWARNING ⚠️ /home/void/ml_oleg/annotations_s/images/val/fc3ea814-5952-11ec-bf18-4f1e8f881a41.jpg: 2 duplicate labels removed\n",
      "\u001b[34m\u001b[1mval: \u001b[0mWARNING ⚠️ /home/void/ml_oleg/annotations_s/images/val/fc3ede2e-5952-11ec-bf9d-a3e63cb46d1c.jpg: 4 duplicate labels removed\n",
      "\u001b[34m\u001b[1mval: \u001b[0mWARNING ⚠️ /home/void/ml_oleg/annotations_s/images/val/fc426d32-5952-11ec-8b26-efc80d05c8c1.jpg: 2 duplicate labels removed\n",
      "\u001b[34m\u001b[1mval: \u001b[0mWARNING ⚠️ /home/void/ml_oleg/annotations_s/images/val/fc427476-5952-11ec-8b31-f331aa9edd11.jpg: 4 duplicate labels removed\n",
      "\u001b[34m\u001b[1mval: \u001b[0mWARNING ⚠️ /home/void/ml_oleg/annotations_s/images/val/fc427a70-5952-11ec-8b40-07f33991eacd.jpg: 1 duplicate labels removed\n",
      "\u001b[34m\u001b[1mval: \u001b[0mWARNING ⚠️ /home/void/ml_oleg/annotations_s/images/val/fc4470aa-5952-11ec-8f77-57ac9b749a59.jpg: 2 duplicate labels removed\n",
      "\u001b[34m\u001b[1mval: \u001b[0mWARNING ⚠️ /home/void/ml_oleg/annotations_s/images/val/fc45d3c8-5952-11ec-9071-c746cf5ca73c.jpg: 2 duplicate labels removed\n",
      "\u001b[34m\u001b[1mval: \u001b[0mWARNING ⚠️ /home/void/ml_oleg/annotations_s/images/val/fc467b52-5952-11ec-9177-a32b57720073.jpg: 2 duplicate labels removed\n",
      "\u001b[34m\u001b[1mval: \u001b[0mWARNING ⚠️ /home/void/ml_oleg/annotations_s/images/val/fc47734a-5952-11ec-9262-13f8ef139327.jpg: 2 duplicate labels removed\n",
      "\u001b[34m\u001b[1mval: \u001b[0mWARNING ⚠️ /home/void/ml_oleg/annotations_s/images/val/fc485a58-5952-11ec-9367-d7073ffd5cb7.jpg: 2 duplicate labels removed\n",
      "\u001b[34m\u001b[1mval: \u001b[0mWARNING ⚠️ /home/void/ml_oleg/annotations_s/images/val/fc4a2a18-5952-11ec-94db-bbfefa31a79d.jpg: 2 duplicate labels removed\n",
      "\u001b[34m\u001b[1mval: \u001b[0mWARNING ⚠️ /home/void/ml_oleg/annotations_s/images/val/fc4b1932-5952-11ec-9634-03b9c138b374.jpg: 2 duplicate labels removed\n",
      "\u001b[34m\u001b[1mval: \u001b[0mWARNING ⚠️ /home/void/ml_oleg/annotations_s/images/val/fc987088-5952-11ec-bf6d-93eb0e1eb8a9.jpg: 1 duplicate labels removed\n",
      "\u001b[34m\u001b[1mval: \u001b[0mWARNING ⚠️ /home/void/ml_oleg/annotations_s/images/val/fc98823a-5952-11ec-bf80-7fdf6c9177ba.jpg: 1 duplicate labels removed\n",
      "\u001b[34m\u001b[1mval: \u001b[0mWARNING ⚠️ /home/void/ml_oleg/annotations_s/images/val/fc9a49d0-5952-11ec-b757-ffef9f6c7f71.jpg: 1 duplicate labels removed\n",
      "\u001b[34m\u001b[1mval: \u001b[0mWARNING ⚠️ /home/void/ml_oleg/annotations_s/images/val/fc9c78cc-5952-11ec-ba22-338333c5b7e4.jpg: 1 duplicate labels removed\n",
      "\u001b[34m\u001b[1mval: \u001b[0mWARNING ⚠️ /home/void/ml_oleg/annotations_s/images/val/fc9e99fe-5952-11ec-bcb2-1fd752b9f109.jpg: 2 duplicate labels removed\n",
      "\u001b[34m\u001b[1mval: \u001b[0mWARNING ⚠️ /home/void/ml_oleg/annotations_s/images/val/fca5a69a-5952-11ec-bdb4-43e170a96e52.jpg: 1 duplicate labels removed\n",
      "\u001b[34m\u001b[1mval: \u001b[0mWARNING ⚠️ /home/void/ml_oleg/annotations_s/images/val/fca64e1a-5952-11ec-be7c-7b3a54b135eb.jpg: 3 duplicate labels removed\n",
      "\u001b[34m\u001b[1mval: \u001b[0mWARNING ⚠️ /home/void/ml_oleg/annotations_s/images/val/fca840bc-5952-11ec-9692-8bc82d5d62c4.jpg: 2 duplicate labels removed\n",
      "\u001b[34m\u001b[1mval: \u001b[0mWARNING ⚠️ /home/void/ml_oleg/annotations_s/images/val/fca87424-5952-11ec-96d2-471bf60272df.jpg: 3 duplicate labels removed\n",
      "\u001b[34m\u001b[1mval: \u001b[0mWARNING ⚠️ /home/void/ml_oleg/annotations_s/images/val/fcaa693c-5952-11ec-9903-438f68af897a.jpg: 2 duplicate labels removed\n",
      "\u001b[34m\u001b[1mval: \u001b[0mWARNING ⚠️ /home/void/ml_oleg/annotations_s/images/val/fcabd790-5952-11ec-9ad1-23afcf4b9cc1.jpg: 2 duplicate labels removed\n",
      "\u001b[34m\u001b[1mval: \u001b[0mWARNING ⚠️ /home/void/ml_oleg/annotations_s/images/val/fcabddd0-5952-11ec-9ae1-bf12db9dbce3.jpg: 1 duplicate labels removed\n",
      "\u001b[34m\u001b[1mval: \u001b[0mWARNING ⚠️ /home/void/ml_oleg/annotations_s/images/val/fcaf16b2-5952-11ec-9ebc-0f7193d4aef5.jpg: 1 duplicate labels removed\n",
      "\u001b[34m\u001b[1mval: \u001b[0mWARNING ⚠️ /home/void/ml_oleg/annotations_s/images/val/fcafba9a-5952-11ec-9fa0-b7fa6a42b218.jpg: 2 duplicate labels removed\n",
      "\u001b[34m\u001b[1mval: \u001b[0mWARNING ⚠️ /home/void/ml_oleg/annotations_s/images/val/fcb21e52-5952-11ec-a2a0-3ba6571de549.jpg: 1 duplicate labels removed\n",
      "\u001b[34m\u001b[1mval: \u001b[0mWARNING ⚠️ /home/void/ml_oleg/annotations_s/images/val/fcb39df4-5952-11ec-a47f-f341415327f4.jpg: 1 duplicate labels removed\n",
      "\u001b[34m\u001b[1mval: \u001b[0mWARNING ⚠️ /home/void/ml_oleg/annotations_s/images/val/fcb5e7c6-5952-11ec-a750-d350ec5470ed.jpg: 2 duplicate labels removed\n",
      "\u001b[34m\u001b[1mval: \u001b[0mWARNING ⚠️ /home/void/ml_oleg/annotations_s/images/val/fcb606e8-5952-11ec-a770-0388bdcd34c2.jpg: 1 duplicate labels removed\n",
      "\u001b[34m\u001b[1mval: \u001b[0mWARNING ⚠️ /home/void/ml_oleg/annotations_s/images/val/fcb63f50-5952-11ec-a7be-d3c966f1d793.jpg: 1 duplicate labels removed\n",
      "\u001b[34m\u001b[1mval: \u001b[0mWARNING ⚠️ /home/void/ml_oleg/annotations_s/images/val/fcbed94e-5952-11ec-b2b7-ab097c23f062.jpg: 3 duplicate labels removed\n",
      "\u001b[34m\u001b[1mval: \u001b[0mWARNING ⚠️ /home/void/ml_oleg/annotations_s/images/val/fcc0edec-5952-11ec-b572-dfb09aedd06b.jpg: 1 duplicate labels removed\n",
      "\u001b[34m\u001b[1mval: \u001b[0mWARNING ⚠️ /home/void/ml_oleg/annotations_s/images/val/fcc9bc2e-5952-11ec-b852-27b40cf0a87c.jpg: 5 duplicate labels removed\n",
      "\u001b[34m\u001b[1mval: \u001b[0mWARNING ⚠️ /home/void/ml_oleg/annotations_s/images/val/fcd1b79e-5952-11ec-ba16-733db70ce958.jpg: 5 duplicate labels removed\n",
      "\u001b[34m\u001b[1mval: \u001b[0mWARNING ⚠️ /home/void/ml_oleg/annotations_s/images/val/fcd8333a-5952-11ec-bfe7-d718267f2d8e.jpg: 4 duplicate labels removed\n",
      "\u001b[34m\u001b[1mval: \u001b[0mWARNING ⚠️ /home/void/ml_oleg/annotations_s/images/val/fcd95378-5952-11ec-a256-9f5ea652c3cc.jpg: 3 duplicate labels removed\n",
      "\u001b[34m\u001b[1mval: \u001b[0mWARNING ⚠️ /home/void/ml_oleg/annotations_s/images/val/fcda9c92-5952-11ec-a3af-6fa41dbaea94.jpg: 5 duplicate labels removed\n",
      "\u001b[34m\u001b[1mval: \u001b[0mWARNING ⚠️ /home/void/ml_oleg/annotations_s/images/val/fcdda95a-5952-11ec-a736-efbc13520e8f.jpg: 3 duplicate labels removed\n",
      "\u001b[34m\u001b[1mval: \u001b[0mWARNING ⚠️ /home/void/ml_oleg/annotations_s/images/val/fcde19e4-5952-11ec-a7ab-e72745545c8c.jpg: 5 duplicate labels removed\n",
      "\u001b[34m\u001b[1mval: \u001b[0mWARNING ⚠️ /home/void/ml_oleg/annotations_s/images/val/fcde305a-5952-11ec-a7c5-1f95e3fcd1dd.jpg: 1 duplicate labels removed\n",
      "\u001b[34m\u001b[1mval: \u001b[0mWARNING ⚠️ /home/void/ml_oleg/annotations_s/images/val/fcde3212-5952-11ec-a7ca-475810197ea8.jpg: 1 duplicate labels removed\n",
      "\u001b[34m\u001b[1mval: \u001b[0mWARNING ⚠️ /home/void/ml_oleg/annotations_s/images/val/fcdf7b36-5952-11ec-a94e-23221e22a17d.jpg: 3 duplicate labels removed\n",
      "\u001b[34m\u001b[1mval: \u001b[0mWARNING ⚠️ /home/void/ml_oleg/annotations_s/images/val/fce8315e-5952-11ec-b271-3fc96b97409f.jpg: 1 duplicate labels removed\n",
      "\u001b[34m\u001b[1mval: \u001b[0mWARNING ⚠️ /home/void/ml_oleg/annotations_s/images/val/fce839f6-5952-11ec-b27b-f75a579176d4.jpg: 2 duplicate labels removed\n",
      "\u001b[34m\u001b[1mval: \u001b[0mWARNING ⚠️ /home/void/ml_oleg/annotations_s/images/val/fceb73f0-5952-11ec-b667-bb3981f05b17.jpg: 3 duplicate labels removed\n",
      "\u001b[34m\u001b[1mval: \u001b[0mWARNING ⚠️ /home/void/ml_oleg/annotations_s/images/val/fced045e-5952-11ec-b865-af1c521aac49.jpg: 2 duplicate labels removed\n",
      "\u001b[34m\u001b[1mval: \u001b[0mWARNING ⚠️ /home/void/ml_oleg/annotations_s/images/val/fcee3e28-5952-11ec-b9c1-4bf2e7da1957.jpg: 1 duplicate labels removed\n",
      "\u001b[34m\u001b[1mval: \u001b[0mWARNING ⚠️ /home/void/ml_oleg/annotations_s/images/val/fceff5ec-5952-11ec-bbce-074332da1af5.jpg: 1 duplicate labels removed\n",
      "\u001b[34m\u001b[1mval: \u001b[0mWARNING ⚠️ /home/void/ml_oleg/annotations_s/images/val/fcf7ebb2-5952-11ec-bd65-d33708c031c5.jpg: 1 duplicate labels removed\n",
      "\u001b[34m\u001b[1mval: \u001b[0mWARNING ⚠️ /home/void/ml_oleg/annotations_s/images/val/fcf896f2-5952-11ec-be2f-fb1d1f6c00bd.jpg: 1 duplicate labels removed\n",
      "\u001b[34m\u001b[1mval: \u001b[0mWARNING ⚠️ /home/void/ml_oleg/annotations_s/images/val/fcf90740-5952-11ec-beb2-878a325d0ac1.jpg: 1 duplicate labels removed\n",
      "\u001b[34m\u001b[1mval: \u001b[0mWARNING ⚠️ /home/void/ml_oleg/annotations_s/images/val/fcf9ae48-5952-11ec-bf8c-07cb1c60bf03.jpg: 1 duplicate labels removed\n",
      "\u001b[34m\u001b[1mval: \u001b[0mWARNING ⚠️ /home/void/ml_oleg/annotations_s/images/val/fcfe73ec-5952-11ec-a1ad-4f362f37fd36.jpg: 1 duplicate labels removed\n",
      "\u001b[34m\u001b[1mval: \u001b[0mWARNING ⚠️ /home/void/ml_oleg/annotations_s/images/val/fd000b08-5952-11ec-a3c7-7feaa124be04.jpg: 2 duplicate labels removed\n",
      "\u001b[34m\u001b[1mval: \u001b[0mWARNING ⚠️ /home/void/ml_oleg/annotations_s/images/val/fd01a72e-5952-11ec-a5ae-97d9ce129500.jpg: 2 duplicate labels removed\n",
      "\u001b[34m\u001b[1mval: \u001b[0mWARNING ⚠️ /home/void/ml_oleg/annotations_s/images/val/fd061b10-5952-11ec-aae5-ebe28cc4d72c.jpg: 1 duplicate labels removed\n",
      "\u001b[34m\u001b[1mval: \u001b[0mWARNING ⚠️ /home/void/ml_oleg/annotations_s/images/val/fd0db8e8-5952-11ec-ac33-4f29a1fdc442.jpg: 1 duplicate labels removed\n",
      "\u001b[34m\u001b[1mval: \u001b[0mWARNING ⚠️ /home/void/ml_oleg/annotations_s/images/val/fd0e526c-5952-11ec-acf2-7bbbb725e4ca.jpg: 1 duplicate labels removed\n"
     ]
    },
    {
     "name": "stderr",
     "output_type": "stream",
     "text": [
      "\n",
      "                 Class     Images  Instances      Box(P          R      mAP50  mAP50-95): 100%|██████████| 1000/1000 [10:36<00:00,  1.57it/s]\n"
     ]
    },
    {
     "name": "stdout",
     "output_type": "stream",
     "text": [
      "                   all       1000       3578      0.599      0.403      0.476      0.332\n",
      "Speed: 5.0ms preprocess, 605.2ms inference, 0.0ms loss, 11.8ms postprocess per image\n",
      "Results saved to \u001b[1mruns/detect/val2\u001b[0m\n"
     ]
    }
   ],
   "source": [
    "metrics_onnx = model_onnx.val(data='test.yaml',batch=8,verbose=False)"
   ]
  },
  {
   "cell_type": "code",
   "execution_count": 9,
   "id": "56e7ea5a-2d2d-470a-a1cb-56eb56de6e06",
   "metadata": {},
   "outputs": [
    {
     "name": "stdout",
     "output_type": "stream",
     "text": [
      "Ultralytics 8.3.39 🚀 Python-3.12.7 torch-2.4.1+cpu CPU (AMD Ryzen 7 7730U with Radeon Graphics)\n",
      "Loading dynamic_quantized.onnx for ONNX Runtime inference...\n",
      "Preferring ONNX Runtime AzureExecutionProvider\n",
      "Setting batch=1 input of shape (1, 3, 640, 640)\n"
     ]
    },
    {
     "name": "stderr",
     "output_type": "stream",
     "text": [
      "\u001b[34m\u001b[1mval: \u001b[0mScanning /home/void/ml_oleg/annotations_s/labels/val.cache... 1000 images, 0 backgrounds, 0 corrupt: 100%|██████████| 1000/1000 [00:00<?, ?it/s]\u001b[0m"
     ]
    },
    {
     "name": "stdout",
     "output_type": "stream",
     "text": [
      "\u001b[34m\u001b[1mval: \u001b[0mWARNING ⚠️ /home/void/ml_oleg/annotations_s/images/val/fc3d886c-5952-11ec-bcdb-d7519ad21bc8.jpg: 2 duplicate labels removed\n",
      "\u001b[34m\u001b[1mval: \u001b[0mWARNING ⚠️ /home/void/ml_oleg/annotations_s/images/val/fc3ea224-5952-11ec-bf0a-2f275af30bd6.jpg: 2 duplicate labels removed\n",
      "\u001b[34m\u001b[1mval: \u001b[0mWARNING ⚠️ /home/void/ml_oleg/annotations_s/images/val/fc3ea814-5952-11ec-bf18-4f1e8f881a41.jpg: 2 duplicate labels removed\n",
      "\u001b[34m\u001b[1mval: \u001b[0mWARNING ⚠️ /home/void/ml_oleg/annotations_s/images/val/fc3ede2e-5952-11ec-bf9d-a3e63cb46d1c.jpg: 4 duplicate labels removed\n",
      "\u001b[34m\u001b[1mval: \u001b[0mWARNING ⚠️ /home/void/ml_oleg/annotations_s/images/val/fc426d32-5952-11ec-8b26-efc80d05c8c1.jpg: 2 duplicate labels removed\n",
      "\u001b[34m\u001b[1mval: \u001b[0mWARNING ⚠️ /home/void/ml_oleg/annotations_s/images/val/fc427476-5952-11ec-8b31-f331aa9edd11.jpg: 4 duplicate labels removed\n",
      "\u001b[34m\u001b[1mval: \u001b[0mWARNING ⚠️ /home/void/ml_oleg/annotations_s/images/val/fc427a70-5952-11ec-8b40-07f33991eacd.jpg: 1 duplicate labels removed\n",
      "\u001b[34m\u001b[1mval: \u001b[0mWARNING ⚠️ /home/void/ml_oleg/annotations_s/images/val/fc4470aa-5952-11ec-8f77-57ac9b749a59.jpg: 2 duplicate labels removed\n",
      "\u001b[34m\u001b[1mval: \u001b[0mWARNING ⚠️ /home/void/ml_oleg/annotations_s/images/val/fc45d3c8-5952-11ec-9071-c746cf5ca73c.jpg: 2 duplicate labels removed\n",
      "\u001b[34m\u001b[1mval: \u001b[0mWARNING ⚠️ /home/void/ml_oleg/annotations_s/images/val/fc467b52-5952-11ec-9177-a32b57720073.jpg: 2 duplicate labels removed\n",
      "\u001b[34m\u001b[1mval: \u001b[0mWARNING ⚠️ /home/void/ml_oleg/annotations_s/images/val/fc47734a-5952-11ec-9262-13f8ef139327.jpg: 2 duplicate labels removed\n",
      "\u001b[34m\u001b[1mval: \u001b[0mWARNING ⚠️ /home/void/ml_oleg/annotations_s/images/val/fc485a58-5952-11ec-9367-d7073ffd5cb7.jpg: 2 duplicate labels removed\n",
      "\u001b[34m\u001b[1mval: \u001b[0mWARNING ⚠️ /home/void/ml_oleg/annotations_s/images/val/fc4a2a18-5952-11ec-94db-bbfefa31a79d.jpg: 2 duplicate labels removed\n",
      "\u001b[34m\u001b[1mval: \u001b[0mWARNING ⚠️ /home/void/ml_oleg/annotations_s/images/val/fc4b1932-5952-11ec-9634-03b9c138b374.jpg: 2 duplicate labels removed\n",
      "\u001b[34m\u001b[1mval: \u001b[0mWARNING ⚠️ /home/void/ml_oleg/annotations_s/images/val/fc987088-5952-11ec-bf6d-93eb0e1eb8a9.jpg: 1 duplicate labels removed\n",
      "\u001b[34m\u001b[1mval: \u001b[0mWARNING ⚠️ /home/void/ml_oleg/annotations_s/images/val/fc98823a-5952-11ec-bf80-7fdf6c9177ba.jpg: 1 duplicate labels removed\n",
      "\u001b[34m\u001b[1mval: \u001b[0mWARNING ⚠️ /home/void/ml_oleg/annotations_s/images/val/fc9a49d0-5952-11ec-b757-ffef9f6c7f71.jpg: 1 duplicate labels removed\n",
      "\u001b[34m\u001b[1mval: \u001b[0mWARNING ⚠️ /home/void/ml_oleg/annotations_s/images/val/fc9c78cc-5952-11ec-ba22-338333c5b7e4.jpg: 1 duplicate labels removed\n",
      "\u001b[34m\u001b[1mval: \u001b[0mWARNING ⚠️ /home/void/ml_oleg/annotations_s/images/val/fc9e99fe-5952-11ec-bcb2-1fd752b9f109.jpg: 2 duplicate labels removed\n",
      "\u001b[34m\u001b[1mval: \u001b[0mWARNING ⚠️ /home/void/ml_oleg/annotations_s/images/val/fca5a69a-5952-11ec-bdb4-43e170a96e52.jpg: 1 duplicate labels removed\n",
      "\u001b[34m\u001b[1mval: \u001b[0mWARNING ⚠️ /home/void/ml_oleg/annotations_s/images/val/fca64e1a-5952-11ec-be7c-7b3a54b135eb.jpg: 3 duplicate labels removed\n",
      "\u001b[34m\u001b[1mval: \u001b[0mWARNING ⚠️ /home/void/ml_oleg/annotations_s/images/val/fca840bc-5952-11ec-9692-8bc82d5d62c4.jpg: 2 duplicate labels removed\n",
      "\u001b[34m\u001b[1mval: \u001b[0mWARNING ⚠️ /home/void/ml_oleg/annotations_s/images/val/fca87424-5952-11ec-96d2-471bf60272df.jpg: 3 duplicate labels removed\n",
      "\u001b[34m\u001b[1mval: \u001b[0mWARNING ⚠️ /home/void/ml_oleg/annotations_s/images/val/fcaa693c-5952-11ec-9903-438f68af897a.jpg: 2 duplicate labels removed\n",
      "\u001b[34m\u001b[1mval: \u001b[0mWARNING ⚠️ /home/void/ml_oleg/annotations_s/images/val/fcabd790-5952-11ec-9ad1-23afcf4b9cc1.jpg: 2 duplicate labels removed\n",
      "\u001b[34m\u001b[1mval: \u001b[0mWARNING ⚠️ /home/void/ml_oleg/annotations_s/images/val/fcabddd0-5952-11ec-9ae1-bf12db9dbce3.jpg: 1 duplicate labels removed\n",
      "\u001b[34m\u001b[1mval: \u001b[0mWARNING ⚠️ /home/void/ml_oleg/annotations_s/images/val/fcaf16b2-5952-11ec-9ebc-0f7193d4aef5.jpg: 1 duplicate labels removed\n",
      "\u001b[34m\u001b[1mval: \u001b[0mWARNING ⚠️ /home/void/ml_oleg/annotations_s/images/val/fcafba9a-5952-11ec-9fa0-b7fa6a42b218.jpg: 2 duplicate labels removed\n",
      "\u001b[34m\u001b[1mval: \u001b[0mWARNING ⚠️ /home/void/ml_oleg/annotations_s/images/val/fcb21e52-5952-11ec-a2a0-3ba6571de549.jpg: 1 duplicate labels removed\n",
      "\u001b[34m\u001b[1mval: \u001b[0mWARNING ⚠️ /home/void/ml_oleg/annotations_s/images/val/fcb39df4-5952-11ec-a47f-f341415327f4.jpg: 1 duplicate labels removed\n",
      "\u001b[34m\u001b[1mval: \u001b[0mWARNING ⚠️ /home/void/ml_oleg/annotations_s/images/val/fcb5e7c6-5952-11ec-a750-d350ec5470ed.jpg: 2 duplicate labels removed\n",
      "\u001b[34m\u001b[1mval: \u001b[0mWARNING ⚠️ /home/void/ml_oleg/annotations_s/images/val/fcb606e8-5952-11ec-a770-0388bdcd34c2.jpg: 1 duplicate labels removed\n",
      "\u001b[34m\u001b[1mval: \u001b[0mWARNING ⚠️ /home/void/ml_oleg/annotations_s/images/val/fcb63f50-5952-11ec-a7be-d3c966f1d793.jpg: 1 duplicate labels removed\n",
      "\u001b[34m\u001b[1mval: \u001b[0mWARNING ⚠️ /home/void/ml_oleg/annotations_s/images/val/fcbed94e-5952-11ec-b2b7-ab097c23f062.jpg: 3 duplicate labels removed\n",
      "\u001b[34m\u001b[1mval: \u001b[0mWARNING ⚠️ /home/void/ml_oleg/annotations_s/images/val/fcc0edec-5952-11ec-b572-dfb09aedd06b.jpg: 1 duplicate labels removed\n",
      "\u001b[34m\u001b[1mval: \u001b[0mWARNING ⚠️ /home/void/ml_oleg/annotations_s/images/val/fcc9bc2e-5952-11ec-b852-27b40cf0a87c.jpg: 5 duplicate labels removed\n",
      "\u001b[34m\u001b[1mval: \u001b[0mWARNING ⚠️ /home/void/ml_oleg/annotations_s/images/val/fcd1b79e-5952-11ec-ba16-733db70ce958.jpg: 5 duplicate labels removed\n",
      "\u001b[34m\u001b[1mval: \u001b[0mWARNING ⚠️ /home/void/ml_oleg/annotations_s/images/val/fcd8333a-5952-11ec-bfe7-d718267f2d8e.jpg: 4 duplicate labels removed\n",
      "\u001b[34m\u001b[1mval: \u001b[0mWARNING ⚠️ /home/void/ml_oleg/annotations_s/images/val/fcd95378-5952-11ec-a256-9f5ea652c3cc.jpg: 3 duplicate labels removed\n",
      "\u001b[34m\u001b[1mval: \u001b[0mWARNING ⚠️ /home/void/ml_oleg/annotations_s/images/val/fcda9c92-5952-11ec-a3af-6fa41dbaea94.jpg: 5 duplicate labels removed\n",
      "\u001b[34m\u001b[1mval: \u001b[0mWARNING ⚠️ /home/void/ml_oleg/annotations_s/images/val/fcdda95a-5952-11ec-a736-efbc13520e8f.jpg: 3 duplicate labels removed\n",
      "\u001b[34m\u001b[1mval: \u001b[0mWARNING ⚠️ /home/void/ml_oleg/annotations_s/images/val/fcde19e4-5952-11ec-a7ab-e72745545c8c.jpg: 5 duplicate labels removed\n",
      "\u001b[34m\u001b[1mval: \u001b[0mWARNING ⚠️ /home/void/ml_oleg/annotations_s/images/val/fcde305a-5952-11ec-a7c5-1f95e3fcd1dd.jpg: 1 duplicate labels removed\n",
      "\u001b[34m\u001b[1mval: \u001b[0mWARNING ⚠️ /home/void/ml_oleg/annotations_s/images/val/fcde3212-5952-11ec-a7ca-475810197ea8.jpg: 1 duplicate labels removed\n",
      "\u001b[34m\u001b[1mval: \u001b[0mWARNING ⚠️ /home/void/ml_oleg/annotations_s/images/val/fcdf7b36-5952-11ec-a94e-23221e22a17d.jpg: 3 duplicate labels removed\n",
      "\u001b[34m\u001b[1mval: \u001b[0mWARNING ⚠️ /home/void/ml_oleg/annotations_s/images/val/fce8315e-5952-11ec-b271-3fc96b97409f.jpg: 1 duplicate labels removed\n",
      "\u001b[34m\u001b[1mval: \u001b[0mWARNING ⚠️ /home/void/ml_oleg/annotations_s/images/val/fce839f6-5952-11ec-b27b-f75a579176d4.jpg: 2 duplicate labels removed\n",
      "\u001b[34m\u001b[1mval: \u001b[0mWARNING ⚠️ /home/void/ml_oleg/annotations_s/images/val/fceb73f0-5952-11ec-b667-bb3981f05b17.jpg: 3 duplicate labels removed\n",
      "\u001b[34m\u001b[1mval: \u001b[0mWARNING ⚠️ /home/void/ml_oleg/annotations_s/images/val/fced045e-5952-11ec-b865-af1c521aac49.jpg: 2 duplicate labels removed\n",
      "\u001b[34m\u001b[1mval: \u001b[0mWARNING ⚠️ /home/void/ml_oleg/annotations_s/images/val/fcee3e28-5952-11ec-b9c1-4bf2e7da1957.jpg: 1 duplicate labels removed\n",
      "\u001b[34m\u001b[1mval: \u001b[0mWARNING ⚠️ /home/void/ml_oleg/annotations_s/images/val/fceff5ec-5952-11ec-bbce-074332da1af5.jpg: 1 duplicate labels removed\n",
      "\u001b[34m\u001b[1mval: \u001b[0mWARNING ⚠️ /home/void/ml_oleg/annotations_s/images/val/fcf7ebb2-5952-11ec-bd65-d33708c031c5.jpg: 1 duplicate labels removed\n",
      "\u001b[34m\u001b[1mval: \u001b[0mWARNING ⚠️ /home/void/ml_oleg/annotations_s/images/val/fcf896f2-5952-11ec-be2f-fb1d1f6c00bd.jpg: 1 duplicate labels removed\n",
      "\u001b[34m\u001b[1mval: \u001b[0mWARNING ⚠️ /home/void/ml_oleg/annotations_s/images/val/fcf90740-5952-11ec-beb2-878a325d0ac1.jpg: 1 duplicate labels removed\n",
      "\u001b[34m\u001b[1mval: \u001b[0mWARNING ⚠️ /home/void/ml_oleg/annotations_s/images/val/fcf9ae48-5952-11ec-bf8c-07cb1c60bf03.jpg: 1 duplicate labels removed\n",
      "\u001b[34m\u001b[1mval: \u001b[0mWARNING ⚠️ /home/void/ml_oleg/annotations_s/images/val/fcfe73ec-5952-11ec-a1ad-4f362f37fd36.jpg: 1 duplicate labels removed\n",
      "\u001b[34m\u001b[1mval: \u001b[0mWARNING ⚠️ /home/void/ml_oleg/annotations_s/images/val/fd000b08-5952-11ec-a3c7-7feaa124be04.jpg: 2 duplicate labels removed\n",
      "\u001b[34m\u001b[1mval: \u001b[0mWARNING ⚠️ /home/void/ml_oleg/annotations_s/images/val/fd01a72e-5952-11ec-a5ae-97d9ce129500.jpg: 2 duplicate labels removed\n",
      "\u001b[34m\u001b[1mval: \u001b[0mWARNING ⚠️ /home/void/ml_oleg/annotations_s/images/val/fd061b10-5952-11ec-aae5-ebe28cc4d72c.jpg: 1 duplicate labels removed\n",
      "\u001b[34m\u001b[1mval: \u001b[0mWARNING ⚠️ /home/void/ml_oleg/annotations_s/images/val/fd0db8e8-5952-11ec-ac33-4f29a1fdc442.jpg: 1 duplicate labels removed\n",
      "\u001b[34m\u001b[1mval: \u001b[0mWARNING ⚠️ /home/void/ml_oleg/annotations_s/images/val/fd0e526c-5952-11ec-acf2-7bbbb725e4ca.jpg: 1 duplicate labels removed\n"
     ]
    },
    {
     "name": "stderr",
     "output_type": "stream",
     "text": [
      "\n",
      "                 Class     Images  Instances      Box(P          R      mAP50  mAP50-95): 100%|██████████| 1000/1000 [10:16<00:00,  1.62it/s]\n"
     ]
    },
    {
     "name": "stdout",
     "output_type": "stream",
     "text": [
      "                   all       1000       3578       0.72       0.36       0.48      0.334\n",
      "Speed: 4.1ms preprocess, 586.5ms inference, 0.0ms loss, 12.5ms postprocess per image\n",
      "Results saved to \u001b[1mruns/detect/val3\u001b[0m\n"
     ]
    }
   ],
   "source": [
    "metrics_dq = dq_model.val(data='test.yaml',batch=8,verbose=False)"
   ]
  },
  {
   "cell_type": "code",
   "execution_count": 10,
   "id": "21e550cd-a33c-4180-ab1b-105c6ef79c74",
   "metadata": {},
   "outputs": [
    {
     "name": "stdout",
     "output_type": "stream",
     "text": [
      "Ultralytics 8.3.39 🚀 Python-3.12.7 torch-2.4.1+cpu CPU (AMD Ryzen 7 7730U with Radeon Graphics)\n",
      "Loading static_quantized.onnx for ONNX Runtime inference...\n",
      "Preferring ONNX Runtime AzureExecutionProvider\n",
      "Setting batch=1 input of shape (1, 3, 640, 640)\n"
     ]
    },
    {
     "name": "stderr",
     "output_type": "stream",
     "text": [
      "\u001b[34m\u001b[1mval: \u001b[0mScanning /home/void/ml_oleg/annotations_s/labels/val.cache... 1000 images, 0 backgrounds, 0 corrupt: 100%|██████████| 1000/1000 [00:00<?, ?it/s]\u001b[0m"
     ]
    },
    {
     "name": "stdout",
     "output_type": "stream",
     "text": [
      "\u001b[34m\u001b[1mval: \u001b[0mWARNING ⚠️ /home/void/ml_oleg/annotations_s/images/val/fc3d886c-5952-11ec-bcdb-d7519ad21bc8.jpg: 2 duplicate labels removed\n",
      "\u001b[34m\u001b[1mval: \u001b[0mWARNING ⚠️ /home/void/ml_oleg/annotations_s/images/val/fc3ea224-5952-11ec-bf0a-2f275af30bd6.jpg: 2 duplicate labels removed\n",
      "\u001b[34m\u001b[1mval: \u001b[0mWARNING ⚠️ /home/void/ml_oleg/annotations_s/images/val/fc3ea814-5952-11ec-bf18-4f1e8f881a41.jpg: 2 duplicate labels removed\n",
      "\u001b[34m\u001b[1mval: \u001b[0mWARNING ⚠️ /home/void/ml_oleg/annotations_s/images/val/fc3ede2e-5952-11ec-bf9d-a3e63cb46d1c.jpg: 4 duplicate labels removed\n",
      "\u001b[34m\u001b[1mval: \u001b[0mWARNING ⚠️ /home/void/ml_oleg/annotations_s/images/val/fc426d32-5952-11ec-8b26-efc80d05c8c1.jpg: 2 duplicate labels removed\n",
      "\u001b[34m\u001b[1mval: \u001b[0mWARNING ⚠️ /home/void/ml_oleg/annotations_s/images/val/fc427476-5952-11ec-8b31-f331aa9edd11.jpg: 4 duplicate labels removed\n",
      "\u001b[34m\u001b[1mval: \u001b[0mWARNING ⚠️ /home/void/ml_oleg/annotations_s/images/val/fc427a70-5952-11ec-8b40-07f33991eacd.jpg: 1 duplicate labels removed\n",
      "\u001b[34m\u001b[1mval: \u001b[0mWARNING ⚠️ /home/void/ml_oleg/annotations_s/images/val/fc4470aa-5952-11ec-8f77-57ac9b749a59.jpg: 2 duplicate labels removed\n",
      "\u001b[34m\u001b[1mval: \u001b[0mWARNING ⚠️ /home/void/ml_oleg/annotations_s/images/val/fc45d3c8-5952-11ec-9071-c746cf5ca73c.jpg: 2 duplicate labels removed\n",
      "\u001b[34m\u001b[1mval: \u001b[0mWARNING ⚠️ /home/void/ml_oleg/annotations_s/images/val/fc467b52-5952-11ec-9177-a32b57720073.jpg: 2 duplicate labels removed\n",
      "\u001b[34m\u001b[1mval: \u001b[0mWARNING ⚠️ /home/void/ml_oleg/annotations_s/images/val/fc47734a-5952-11ec-9262-13f8ef139327.jpg: 2 duplicate labels removed\n",
      "\u001b[34m\u001b[1mval: \u001b[0mWARNING ⚠️ /home/void/ml_oleg/annotations_s/images/val/fc485a58-5952-11ec-9367-d7073ffd5cb7.jpg: 2 duplicate labels removed\n",
      "\u001b[34m\u001b[1mval: \u001b[0mWARNING ⚠️ /home/void/ml_oleg/annotations_s/images/val/fc4a2a18-5952-11ec-94db-bbfefa31a79d.jpg: 2 duplicate labels removed\n",
      "\u001b[34m\u001b[1mval: \u001b[0mWARNING ⚠️ /home/void/ml_oleg/annotations_s/images/val/fc4b1932-5952-11ec-9634-03b9c138b374.jpg: 2 duplicate labels removed\n",
      "\u001b[34m\u001b[1mval: \u001b[0mWARNING ⚠️ /home/void/ml_oleg/annotations_s/images/val/fc987088-5952-11ec-bf6d-93eb0e1eb8a9.jpg: 1 duplicate labels removed\n",
      "\u001b[34m\u001b[1mval: \u001b[0mWARNING ⚠️ /home/void/ml_oleg/annotations_s/images/val/fc98823a-5952-11ec-bf80-7fdf6c9177ba.jpg: 1 duplicate labels removed\n",
      "\u001b[34m\u001b[1mval: \u001b[0mWARNING ⚠️ /home/void/ml_oleg/annotations_s/images/val/fc9a49d0-5952-11ec-b757-ffef9f6c7f71.jpg: 1 duplicate labels removed\n",
      "\u001b[34m\u001b[1mval: \u001b[0mWARNING ⚠️ /home/void/ml_oleg/annotations_s/images/val/fc9c78cc-5952-11ec-ba22-338333c5b7e4.jpg: 1 duplicate labels removed\n",
      "\u001b[34m\u001b[1mval: \u001b[0mWARNING ⚠️ /home/void/ml_oleg/annotations_s/images/val/fc9e99fe-5952-11ec-bcb2-1fd752b9f109.jpg: 2 duplicate labels removed\n",
      "\u001b[34m\u001b[1mval: \u001b[0mWARNING ⚠️ /home/void/ml_oleg/annotations_s/images/val/fca5a69a-5952-11ec-bdb4-43e170a96e52.jpg: 1 duplicate labels removed\n",
      "\u001b[34m\u001b[1mval: \u001b[0mWARNING ⚠️ /home/void/ml_oleg/annotations_s/images/val/fca64e1a-5952-11ec-be7c-7b3a54b135eb.jpg: 3 duplicate labels removed\n",
      "\u001b[34m\u001b[1mval: \u001b[0mWARNING ⚠️ /home/void/ml_oleg/annotations_s/images/val/fca840bc-5952-11ec-9692-8bc82d5d62c4.jpg: 2 duplicate labels removed\n",
      "\u001b[34m\u001b[1mval: \u001b[0mWARNING ⚠️ /home/void/ml_oleg/annotations_s/images/val/fca87424-5952-11ec-96d2-471bf60272df.jpg: 3 duplicate labels removed\n",
      "\u001b[34m\u001b[1mval: \u001b[0mWARNING ⚠️ /home/void/ml_oleg/annotations_s/images/val/fcaa693c-5952-11ec-9903-438f68af897a.jpg: 2 duplicate labels removed\n",
      "\u001b[34m\u001b[1mval: \u001b[0mWARNING ⚠️ /home/void/ml_oleg/annotations_s/images/val/fcabd790-5952-11ec-9ad1-23afcf4b9cc1.jpg: 2 duplicate labels removed\n",
      "\u001b[34m\u001b[1mval: \u001b[0mWARNING ⚠️ /home/void/ml_oleg/annotations_s/images/val/fcabddd0-5952-11ec-9ae1-bf12db9dbce3.jpg: 1 duplicate labels removed\n",
      "\u001b[34m\u001b[1mval: \u001b[0mWARNING ⚠️ /home/void/ml_oleg/annotations_s/images/val/fcaf16b2-5952-11ec-9ebc-0f7193d4aef5.jpg: 1 duplicate labels removed\n",
      "\u001b[34m\u001b[1mval: \u001b[0mWARNING ⚠️ /home/void/ml_oleg/annotations_s/images/val/fcafba9a-5952-11ec-9fa0-b7fa6a42b218.jpg: 2 duplicate labels removed\n",
      "\u001b[34m\u001b[1mval: \u001b[0mWARNING ⚠️ /home/void/ml_oleg/annotations_s/images/val/fcb21e52-5952-11ec-a2a0-3ba6571de549.jpg: 1 duplicate labels removed\n",
      "\u001b[34m\u001b[1mval: \u001b[0mWARNING ⚠️ /home/void/ml_oleg/annotations_s/images/val/fcb39df4-5952-11ec-a47f-f341415327f4.jpg: 1 duplicate labels removed\n",
      "\u001b[34m\u001b[1mval: \u001b[0mWARNING ⚠️ /home/void/ml_oleg/annotations_s/images/val/fcb5e7c6-5952-11ec-a750-d350ec5470ed.jpg: 2 duplicate labels removed\n",
      "\u001b[34m\u001b[1mval: \u001b[0mWARNING ⚠️ /home/void/ml_oleg/annotations_s/images/val/fcb606e8-5952-11ec-a770-0388bdcd34c2.jpg: 1 duplicate labels removed\n",
      "\u001b[34m\u001b[1mval: \u001b[0mWARNING ⚠️ /home/void/ml_oleg/annotations_s/images/val/fcb63f50-5952-11ec-a7be-d3c966f1d793.jpg: 1 duplicate labels removed\n",
      "\u001b[34m\u001b[1mval: \u001b[0mWARNING ⚠️ /home/void/ml_oleg/annotations_s/images/val/fcbed94e-5952-11ec-b2b7-ab097c23f062.jpg: 3 duplicate labels removed\n",
      "\u001b[34m\u001b[1mval: \u001b[0mWARNING ⚠️ /home/void/ml_oleg/annotations_s/images/val/fcc0edec-5952-11ec-b572-dfb09aedd06b.jpg: 1 duplicate labels removed\n",
      "\u001b[34m\u001b[1mval: \u001b[0mWARNING ⚠️ /home/void/ml_oleg/annotations_s/images/val/fcc9bc2e-5952-11ec-b852-27b40cf0a87c.jpg: 5 duplicate labels removed\n",
      "\u001b[34m\u001b[1mval: \u001b[0mWARNING ⚠️ /home/void/ml_oleg/annotations_s/images/val/fcd1b79e-5952-11ec-ba16-733db70ce958.jpg: 5 duplicate labels removed\n",
      "\u001b[34m\u001b[1mval: \u001b[0mWARNING ⚠️ /home/void/ml_oleg/annotations_s/images/val/fcd8333a-5952-11ec-bfe7-d718267f2d8e.jpg: 4 duplicate labels removed\n",
      "\u001b[34m\u001b[1mval: \u001b[0mWARNING ⚠️ /home/void/ml_oleg/annotations_s/images/val/fcd95378-5952-11ec-a256-9f5ea652c3cc.jpg: 3 duplicate labels removed\n",
      "\u001b[34m\u001b[1mval: \u001b[0mWARNING ⚠️ /home/void/ml_oleg/annotations_s/images/val/fcda9c92-5952-11ec-a3af-6fa41dbaea94.jpg: 5 duplicate labels removed\n",
      "\u001b[34m\u001b[1mval: \u001b[0mWARNING ⚠️ /home/void/ml_oleg/annotations_s/images/val/fcdda95a-5952-11ec-a736-efbc13520e8f.jpg: 3 duplicate labels removed\n",
      "\u001b[34m\u001b[1mval: \u001b[0mWARNING ⚠️ /home/void/ml_oleg/annotations_s/images/val/fcde19e4-5952-11ec-a7ab-e72745545c8c.jpg: 5 duplicate labels removed\n",
      "\u001b[34m\u001b[1mval: \u001b[0mWARNING ⚠️ /home/void/ml_oleg/annotations_s/images/val/fcde305a-5952-11ec-a7c5-1f95e3fcd1dd.jpg: 1 duplicate labels removed\n",
      "\u001b[34m\u001b[1mval: \u001b[0mWARNING ⚠️ /home/void/ml_oleg/annotations_s/images/val/fcde3212-5952-11ec-a7ca-475810197ea8.jpg: 1 duplicate labels removed\n",
      "\u001b[34m\u001b[1mval: \u001b[0mWARNING ⚠️ /home/void/ml_oleg/annotations_s/images/val/fcdf7b36-5952-11ec-a94e-23221e22a17d.jpg: 3 duplicate labels removed\n",
      "\u001b[34m\u001b[1mval: \u001b[0mWARNING ⚠️ /home/void/ml_oleg/annotations_s/images/val/fce8315e-5952-11ec-b271-3fc96b97409f.jpg: 1 duplicate labels removed\n",
      "\u001b[34m\u001b[1mval: \u001b[0mWARNING ⚠️ /home/void/ml_oleg/annotations_s/images/val/fce839f6-5952-11ec-b27b-f75a579176d4.jpg: 2 duplicate labels removed\n",
      "\u001b[34m\u001b[1mval: \u001b[0mWARNING ⚠️ /home/void/ml_oleg/annotations_s/images/val/fceb73f0-5952-11ec-b667-bb3981f05b17.jpg: 3 duplicate labels removed\n",
      "\u001b[34m\u001b[1mval: \u001b[0mWARNING ⚠️ /home/void/ml_oleg/annotations_s/images/val/fced045e-5952-11ec-b865-af1c521aac49.jpg: 2 duplicate labels removed\n",
      "\u001b[34m\u001b[1mval: \u001b[0mWARNING ⚠️ /home/void/ml_oleg/annotations_s/images/val/fcee3e28-5952-11ec-b9c1-4bf2e7da1957.jpg: 1 duplicate labels removed\n",
      "\u001b[34m\u001b[1mval: \u001b[0mWARNING ⚠️ /home/void/ml_oleg/annotations_s/images/val/fceff5ec-5952-11ec-bbce-074332da1af5.jpg: 1 duplicate labels removed\n",
      "\u001b[34m\u001b[1mval: \u001b[0mWARNING ⚠️ /home/void/ml_oleg/annotations_s/images/val/fcf7ebb2-5952-11ec-bd65-d33708c031c5.jpg: 1 duplicate labels removed\n",
      "\u001b[34m\u001b[1mval: \u001b[0mWARNING ⚠️ /home/void/ml_oleg/annotations_s/images/val/fcf896f2-5952-11ec-be2f-fb1d1f6c00bd.jpg: 1 duplicate labels removed\n",
      "\u001b[34m\u001b[1mval: \u001b[0mWARNING ⚠️ /home/void/ml_oleg/annotations_s/images/val/fcf90740-5952-11ec-beb2-878a325d0ac1.jpg: 1 duplicate labels removed\n",
      "\u001b[34m\u001b[1mval: \u001b[0mWARNING ⚠️ /home/void/ml_oleg/annotations_s/images/val/fcf9ae48-5952-11ec-bf8c-07cb1c60bf03.jpg: 1 duplicate labels removed\n",
      "\u001b[34m\u001b[1mval: \u001b[0mWARNING ⚠️ /home/void/ml_oleg/annotations_s/images/val/fcfe73ec-5952-11ec-a1ad-4f362f37fd36.jpg: 1 duplicate labels removed\n",
      "\u001b[34m\u001b[1mval: \u001b[0mWARNING ⚠️ /home/void/ml_oleg/annotations_s/images/val/fd000b08-5952-11ec-a3c7-7feaa124be04.jpg: 2 duplicate labels removed\n",
      "\u001b[34m\u001b[1mval: \u001b[0mWARNING ⚠️ /home/void/ml_oleg/annotations_s/images/val/fd01a72e-5952-11ec-a5ae-97d9ce129500.jpg: 2 duplicate labels removed\n",
      "\u001b[34m\u001b[1mval: \u001b[0mWARNING ⚠️ /home/void/ml_oleg/annotations_s/images/val/fd061b10-5952-11ec-aae5-ebe28cc4d72c.jpg: 1 duplicate labels removed\n",
      "\u001b[34m\u001b[1mval: \u001b[0mWARNING ⚠️ /home/void/ml_oleg/annotations_s/images/val/fd0db8e8-5952-11ec-ac33-4f29a1fdc442.jpg: 1 duplicate labels removed\n",
      "\u001b[34m\u001b[1mval: \u001b[0mWARNING ⚠️ /home/void/ml_oleg/annotations_s/images/val/fd0e526c-5952-11ec-acf2-7bbbb725e4ca.jpg: 1 duplicate labels removed\n"
     ]
    },
    {
     "name": "stderr",
     "output_type": "stream",
     "text": [
      "\n",
      "                 Class     Images  Instances      Box(P          R      mAP50  mAP50-95): 100%|██████████| 1000/1000 [05:07<00:00,  3.25it/s]\n"
     ]
    },
    {
     "name": "stdout",
     "output_type": "stream",
     "text": [
      "                   all       1000       3578      0.647      0.354      0.392      0.268\n",
      "Speed: 4.8ms preprocess, 278.9ms inference, 0.0ms loss, 10.6ms postprocess per image\n",
      "Results saved to \u001b[1mruns/detect/val4\u001b[0m\n"
     ]
    }
   ],
   "source": [
    "metrics_sq = sq_model.val(data='test.yaml',batch=8,verbose=False)"
   ]
  },
  {
   "cell_type": "code",
   "execution_count": 11,
   "id": "6518f0e3-94f8-487c-9236-5e075673d0e6",
   "metadata": {},
   "outputs": [
    {
     "data": {
      "text/plain": [
       "<ultralytics.utils.metrics.ConfusionMatrix at 0x7f21ec739d00>"
      ]
     },
     "execution_count": 11,
     "metadata": {},
     "output_type": "execute_result"
    }
   ],
   "source": [
    "metrics_sq.confusion_matrix"
   ]
  },
  {
   "cell_type": "code",
   "execution_count": 12,
   "id": "26f3a372-c235-4d39-a5b5-2fb43fb4dd16",
   "metadata": {},
   "outputs": [
    {
     "data": {
      "text/plain": [
       "{'metrics/precision(B)': 0.646824782007773,\n",
       " 'metrics/recall(B)': 0.3538004640378564,\n",
       " 'metrics/mAP50(B)': 0.3918268322166554,\n",
       " 'metrics/mAP50-95(B)': 0.2684438242845981,\n",
       " 'fitness': 0.28078212507780387}"
      ]
     },
     "execution_count": 12,
     "metadata": {},
     "output_type": "execute_result"
    }
   ],
   "source": [
    "metrics_sq.results_dict"
   ]
  },
  {
   "cell_type": "code",
   "execution_count": 13,
   "id": "7ed8728a-1907-4a7d-a495-be1aac137dac",
   "metadata": {},
   "outputs": [
    {
     "data": {
      "text/plain": [
       "{'metrics/precision(B)': 0.619810192401337,\n",
       " 'metrics/recall(B)': 0.436514146371372,\n",
       " 'metrics/mAP50(B)': 0.5061292795508686,\n",
       " 'metrics/mAP50-95(B)': 0.3537108719228035,\n",
       " 'fitness': 0.36895271268561003}"
      ]
     },
     "execution_count": 13,
     "metadata": {},
     "output_type": "execute_result"
    }
   ],
   "source": [
    "metrics.results_dict"
   ]
  },
  {
   "cell_type": "code",
   "execution_count": 14,
   "id": "441f00b1-c782-4c9e-9774-85f4072ce3a4",
   "metadata": {},
   "outputs": [
    {
     "name": "stdout",
     "output_type": "stream",
     "text": [
      "alannn.ipynb\t\t\t nets\n",
      "annotations\t\t\t out.json\n",
      "annotations_s\t\t\t prepare-data-for-yolo-Copy1.ipynb\n",
      "annotations_s.zip\t\t prepare-data-for-yolo-Copy2.ipynb\n",
      "classic.ipynb\t\t\t prepare-data-for-yolo.ipynb\n",
      "confusion_matrix_normalized.png  __pycache__\n",
      "data.csv\t\t\t qa_test.ipynb\n",
      "dert_kaggle.ipynb\t\t req.txt\n",
      "detect\t\t\t\t runs\n",
      "detect2\t\t\t\t static_quantized.onnx\n",
      "detect3\t\t\t\t subsamples.ipynb\n",
      "detect4\t\t\t\t testc.ipynb\n",
      "detr.ipynb\t\t\t test.json\n",
      "detr.py\t\t\t\t test.png\n",
      "donuts-found.jpg\t\t test_qa.ipynb\n",
      "dynamic_quantized.onnx\t\t test.yaml\n",
      "eda.ipynb\t\t\t tranformers.py\n",
      "evaluate.py\t\t\t utils\n",
      "hw_02_pruning_solution.ipynb\t weights\n",
      "img\t\t\t\t yolo.ipynb\n",
      "img.zip\t\t\t\t yolo-second-epoch.ipynb\n",
      "map_ids.json\t\t\t yolo-train-fishai.ipynb\n"
     ]
    }
   ],
   "source": [
    "!ls"
   ]
  },
  {
   "cell_type": "code",
   "execution_count": 11,
   "id": "22342be7-040d-4eaa-8c04-7e90909f53fa",
   "metadata": {},
   "outputs": [],
   "source": [
    "from datetime import timedelta\n",
    "import time\n",
    "\n",
    "import torch\n",
    "\n",
    "def test(model_test , batch = 8,it=20):\n",
    "    test_val = torch.rand(batch,3,640,640)\n",
    "    torch.cpu.synchronize()\n",
    "    #warm up \n",
    "    for _ in range(5):\n",
    "        model_test.predict(test_val,verbose=False)\n",
    "        torch.cpu.synchronize()\n",
    "\n",
    "        \n",
    "    starttime = time.perf_counter()\n",
    "    for _ in range(it):\n",
    "        model_test.predict(test_val,verbose=False)\n",
    "        torch.cpu.synchronize()\n",
    "\n",
    "    return timedelta(seconds=time.perf_counter()-starttime)/it\n",
    "\n",
    "\n",
    "    "
   ]
  },
  {
   "cell_type": "code",
   "execution_count": 17,
   "id": "a29bb467-eb3f-4c66-9cab-431c01605465",
   "metadata": {},
   "outputs": [],
   "source": [
    "t_qat = test(sq_model,1)"
   ]
  },
  {
   "cell_type": "code",
   "execution_count": 18,
   "id": "dc4c92d9-e5f9-4934-a23c-40e90790c96b",
   "metadata": {},
   "outputs": [],
   "source": [
    "t_sq = test(dq_model,1)"
   ]
  },
  {
   "cell_type": "code",
   "execution_count": 19,
   "id": "e2132e15-26f7-4c96-bd9c-d5092fb0de08",
   "metadata": {},
   "outputs": [],
   "source": [
    "t = test(model,1)"
   ]
  },
  {
   "cell_type": "code",
   "execution_count": 20,
   "id": "cb762888-6bc3-448f-9c5b-b63ebf75650a",
   "metadata": {},
   "outputs": [],
   "source": [
    "t_dq = test(model_onnx,1)"
   ]
  },
  {
   "cell_type": "code",
   "execution_count": 5,
   "id": "d5201f92-799a-4b35-ba8c-089ee31b4b47",
   "metadata": {},
   "outputs": [],
   "source": [
    "import pandas as pd "
   ]
  },
  {
   "cell_type": "code",
   "execution_count": 35,
   "id": "1e150bbf-ebc5-4a2f-9c14-88703b325f79",
   "metadata": {},
   "outputs": [],
   "source": [
    "from collections import defaultdict\n",
    "data = defaultdict(list)\n",
    "for m,values in zip(['torch', 'onnx','qat','sq'],[metrics.results_dict,metrics_onnx.results_dict,metrics_sq.results_dict,metrics_dq.results_dict]):\n",
    "    data['model'].append(m)\n",
    "    for k,v in values.items():\n",
    "        if k == 'fitness':\n",
    "            continue\n",
    "        data[k].append(v)"
   ]
  },
  {
   "cell_type": "code",
   "execution_count": null,
   "id": "2da82ebc-9f2e-4200-b846-82ed677fb448",
   "metadata": {},
   "outputs": [],
   "source": []
  },
  {
   "cell_type": "code",
   "execution_count": 10,
   "id": "45eeb912-b467-4e68-9149-a6e6a9aae840",
   "metadata": {},
   "outputs": [
    {
     "data": {
      "text/html": [
       "<div>\n",
       "<style scoped>\n",
       "    .dataframe tbody tr th:only-of-type {\n",
       "        vertical-align: middle;\n",
       "    }\n",
       "\n",
       "    .dataframe tbody tr th {\n",
       "        vertical-align: top;\n",
       "    }\n",
       "\n",
       "    .dataframe thead th {\n",
       "        text-align: right;\n",
       "    }\n",
       "</style>\n",
       "<table border=\"1\" class=\"dataframe\">\n",
       "  <thead>\n",
       "    <tr style=\"text-align: right;\">\n",
       "      <th></th>\n",
       "      <th>model</th>\n",
       "      <th>metrics/precision(B)</th>\n",
       "      <th>metrics/recall(B)</th>\n",
       "      <th>metrics/mAP50(B)</th>\n",
       "      <th>metrics/mAP50-95(B)</th>\n",
       "    </tr>\n",
       "  </thead>\n",
       "  <tbody>\n",
       "    <tr>\n",
       "      <th>0</th>\n",
       "      <td>torch</td>\n",
       "      <td>0.619810</td>\n",
       "      <td>0.436514</td>\n",
       "      <td>0.506129</td>\n",
       "      <td>0.353711</td>\n",
       "    </tr>\n",
       "    <tr>\n",
       "      <th>1</th>\n",
       "      <td>dq</td>\n",
       "      <td>0.599474</td>\n",
       "      <td>0.403165</td>\n",
       "      <td>0.476198</td>\n",
       "      <td>0.332022</td>\n",
       "    </tr>\n",
       "    <tr>\n",
       "      <th>2</th>\n",
       "      <td>qat</td>\n",
       "      <td>0.646825</td>\n",
       "      <td>0.353800</td>\n",
       "      <td>0.391827</td>\n",
       "      <td>0.268444</td>\n",
       "    </tr>\n",
       "    <tr>\n",
       "      <th>3</th>\n",
       "      <td>sq</td>\n",
       "      <td>0.719761</td>\n",
       "      <td>0.359985</td>\n",
       "      <td>0.480005</td>\n",
       "      <td>0.333922</td>\n",
       "    </tr>\n",
       "  </tbody>\n",
       "</table>\n",
       "</div>"
      ],
      "text/plain": [
       "   model  metrics/precision(B)  metrics/recall(B)  metrics/mAP50(B)  \\\n",
       "0  torch              0.619810           0.436514          0.506129   \n",
       "1     dq              0.599474           0.403165          0.476198   \n",
       "2    qat              0.646825           0.353800          0.391827   \n",
       "3     sq              0.719761           0.359985          0.480005   \n",
       "\n",
       "   metrics/mAP50-95(B)  \n",
       "0             0.353711  \n",
       "1             0.332022  \n",
       "2             0.268444  \n",
       "3             0.333922  "
      ]
     },
     "execution_count": 10,
     "metadata": {},
     "output_type": "execute_result"
    }
   ],
   "source": [
    "# pd.DataFrame(data)\n",
    "df"
   ]
  },
  {
   "cell_type": "code",
   "execution_count": null,
   "id": "ba7bbfc7-93b9-4d48-9e5a-321f1b52f3bd",
   "metadata": {},
   "outputs": [],
   "source": [
    "df['"
   ]
  },
  {
   "cell_type": "code",
   "execution_count": 38,
   "id": "556c9b78-bc7e-4fb1-8eb6-4e6abe642b27",
   "metadata": {},
   "outputs": [
    {
     "name": "stdout",
     "output_type": "stream",
     "text": [
      "Ultralytics 8.3.39 🚀 Python-3.12.7 torch-2.4.1+cpu CPU (AMD Ryzen 7 7730U with Radeon Graphics)\n",
      "Model summary (fused): 268 layers, 68,156,310 parameters, 0 gradients, 257.6 GFLOPs\n",
      "\n",
      "\u001b[34m\u001b[1mPyTorch:\u001b[0m starting from 'detect4/train/weights/best.pt' with input shape (1, 3, 640, 640) BCHW and output shape(s) (1, 38, 8400) (130.4 MB)\n",
      "\n",
      "\u001b[34m\u001b[1mOpenVINO:\u001b[0m starting export with openvino 2024.5.0-17288-7975fa5da0c-refs/pull/3856/head...\n",
      "\u001b[34m\u001b[1mOpenVINO:\u001b[0m export success ✅ 5.9s, saved as 'detect4/train/weights/best_openvino_model/' (260.4 MB)\n",
      "\n",
      "Export complete (8.1s)\n",
      "Results saved to \u001b[1m/home/void/ml_oleg/detect4/train/weights\u001b[0m\n",
      "Predict:         yolo predict task=detect model=detect4/train/weights/best_openvino_model imgsz=640  \n",
      "Validate:        yolo val task=detect model=detect4/train/weights/best_openvino_model imgsz=640 data=test.yaml  \n",
      "Visualize:       https://netron.app\n"
     ]
    },
    {
     "data": {
      "text/plain": [
       "'detect4/train/weights/best_openvino_model'"
      ]
     },
     "execution_count": 38,
     "metadata": {},
     "output_type": "execute_result"
    }
   ],
   "source": [
    "model = YOLO(\"detect4/train/weights/best.pt\")  # You can choose a different variant like 'yolov8n.pt' or 'yolov8m.pt'\n",
    "model.export(format = 'openvino') # exports the model in '.onnx' format"
   ]
  },
  {
   "cell_type": "code",
   "execution_count": 23,
   "id": "caefdf9f-b573-4605-91f3-3c397b17e06f",
   "metadata": {},
   "outputs": [
    {
     "data": {
      "text/plain": [
       "652432"
      ]
     },
     "execution_count": 23,
     "metadata": {},
     "output_type": "execute_result"
    }
   ],
   "source": [
    "t.microseconds"
   ]
  },
  {
   "cell_type": "code",
   "execution_count": 24,
   "id": "fcde577e-c927-4e5e-9a4b-339f649239f4",
   "metadata": {},
   "outputs": [],
   "source": [
    "df['time'] = [t.microseconds, t_dq.microseconds,t_qat.microseconds, t_sq.microseconds]"
   ]
  },
  {
   "cell_type": "code",
   "execution_count": 25,
   "id": "78593b01-4104-48a2-9423-08e3a9da02f7",
   "metadata": {},
   "outputs": [
    {
     "data": {
      "text/html": [
       "<div>\n",
       "<style scoped>\n",
       "    .dataframe tbody tr th:only-of-type {\n",
       "        vertical-align: middle;\n",
       "    }\n",
       "\n",
       "    .dataframe tbody tr th {\n",
       "        vertical-align: top;\n",
       "    }\n",
       "\n",
       "    .dataframe thead th {\n",
       "        text-align: right;\n",
       "    }\n",
       "</style>\n",
       "<table border=\"1\" class=\"dataframe\">\n",
       "  <thead>\n",
       "    <tr style=\"text-align: right;\">\n",
       "      <th></th>\n",
       "      <th>model</th>\n",
       "      <th>metrics/precision(B)</th>\n",
       "      <th>metrics/recall(B)</th>\n",
       "      <th>metrics/mAP50(B)</th>\n",
       "      <th>metrics/mAP50-95(B)</th>\n",
       "      <th>time</th>\n",
       "    </tr>\n",
       "  </thead>\n",
       "  <tbody>\n",
       "    <tr>\n",
       "      <th>0</th>\n",
       "      <td>torch</td>\n",
       "      <td>0.619810</td>\n",
       "      <td>0.436514</td>\n",
       "      <td>0.506129</td>\n",
       "      <td>0.353711</td>\n",
       "      <td>652432</td>\n",
       "    </tr>\n",
       "    <tr>\n",
       "      <th>1</th>\n",
       "      <td>dq</td>\n",
       "      <td>0.599474</td>\n",
       "      <td>0.403165</td>\n",
       "      <td>0.476198</td>\n",
       "      <td>0.332022</td>\n",
       "      <td>796239</td>\n",
       "    </tr>\n",
       "    <tr>\n",
       "      <th>2</th>\n",
       "      <td>qat</td>\n",
       "      <td>0.646825</td>\n",
       "      <td>0.353800</td>\n",
       "      <td>0.391827</td>\n",
       "      <td>0.268444</td>\n",
       "      <td>324608</td>\n",
       "    </tr>\n",
       "    <tr>\n",
       "      <th>3</th>\n",
       "      <td>sq</td>\n",
       "      <td>0.719761</td>\n",
       "      <td>0.359985</td>\n",
       "      <td>0.480005</td>\n",
       "      <td>0.333922</td>\n",
       "      <td>727462</td>\n",
       "    </tr>\n",
       "  </tbody>\n",
       "</table>\n",
       "</div>"
      ],
      "text/plain": [
       "   model  metrics/precision(B)  metrics/recall(B)  metrics/mAP50(B)  \\\n",
       "0  torch              0.619810           0.436514          0.506129   \n",
       "1     dq              0.599474           0.403165          0.476198   \n",
       "2    qat              0.646825           0.353800          0.391827   \n",
       "3     sq              0.719761           0.359985          0.480005   \n",
       "\n",
       "   metrics/mAP50-95(B)    time  \n",
       "0             0.353711  652432  \n",
       "1             0.332022  796239  \n",
       "2             0.268444  324608  \n",
       "3             0.333922  727462  "
      ]
     },
     "execution_count": 25,
     "metadata": {},
     "output_type": "execute_result"
    }
   ],
   "source": [
    "df"
   ]
  },
  {
   "cell_type": "code",
   "execution_count": 26,
   "id": "0f009694-0442-4f8a-952b-55b7f195bd40",
   "metadata": {},
   "outputs": [],
   "source": [
    "df['norm_time']=df['time']/df['time'].max()"
   ]
  },
  {
   "cell_type": "code",
   "execution_count": 27,
   "id": "b9fd2b67-78c5-43de-ad8e-7af300518878",
   "metadata": {},
   "outputs": [
    {
     "data": {
      "text/html": [
       "<div>\n",
       "<style scoped>\n",
       "    .dataframe tbody tr th:only-of-type {\n",
       "        vertical-align: middle;\n",
       "    }\n",
       "\n",
       "    .dataframe tbody tr th {\n",
       "        vertical-align: top;\n",
       "    }\n",
       "\n",
       "    .dataframe thead th {\n",
       "        text-align: right;\n",
       "    }\n",
       "</style>\n",
       "<table border=\"1\" class=\"dataframe\">\n",
       "  <thead>\n",
       "    <tr style=\"text-align: right;\">\n",
       "      <th></th>\n",
       "      <th>model</th>\n",
       "      <th>metrics/precision(B)</th>\n",
       "      <th>metrics/recall(B)</th>\n",
       "      <th>metrics/mAP50(B)</th>\n",
       "      <th>metrics/mAP50-95(B)</th>\n",
       "      <th>time</th>\n",
       "      <th>norm_time</th>\n",
       "    </tr>\n",
       "  </thead>\n",
       "  <tbody>\n",
       "    <tr>\n",
       "      <th>0</th>\n",
       "      <td>torch</td>\n",
       "      <td>0.619810</td>\n",
       "      <td>0.436514</td>\n",
       "      <td>0.506129</td>\n",
       "      <td>0.353711</td>\n",
       "      <td>652432</td>\n",
       "      <td>0.819392</td>\n",
       "    </tr>\n",
       "    <tr>\n",
       "      <th>1</th>\n",
       "      <td>dq</td>\n",
       "      <td>0.599474</td>\n",
       "      <td>0.403165</td>\n",
       "      <td>0.476198</td>\n",
       "      <td>0.332022</td>\n",
       "      <td>796239</td>\n",
       "      <td>1.000000</td>\n",
       "    </tr>\n",
       "    <tr>\n",
       "      <th>2</th>\n",
       "      <td>qat</td>\n",
       "      <td>0.646825</td>\n",
       "      <td>0.353800</td>\n",
       "      <td>0.391827</td>\n",
       "      <td>0.268444</td>\n",
       "      <td>324608</td>\n",
       "      <td>0.407677</td>\n",
       "    </tr>\n",
       "    <tr>\n",
       "      <th>3</th>\n",
       "      <td>sq</td>\n",
       "      <td>0.719761</td>\n",
       "      <td>0.359985</td>\n",
       "      <td>0.480005</td>\n",
       "      <td>0.333922</td>\n",
       "      <td>727462</td>\n",
       "      <td>0.913623</td>\n",
       "    </tr>\n",
       "  </tbody>\n",
       "</table>\n",
       "</div>"
      ],
      "text/plain": [
       "   model  metrics/precision(B)  metrics/recall(B)  metrics/mAP50(B)  \\\n",
       "0  torch              0.619810           0.436514          0.506129   \n",
       "1     dq              0.599474           0.403165          0.476198   \n",
       "2    qat              0.646825           0.353800          0.391827   \n",
       "3     sq              0.719761           0.359985          0.480005   \n",
       "\n",
       "   metrics/mAP50-95(B)    time  norm_time  \n",
       "0             0.353711  652432   0.819392  \n",
       "1             0.332022  796239   1.000000  \n",
       "2             0.268444  324608   0.407677  \n",
       "3             0.333922  727462   0.913623  "
      ]
     },
     "execution_count": 27,
     "metadata": {},
     "output_type": "execute_result"
    }
   ],
   "source": [
    "df"
   ]
  },
  {
   "cell_type": "code",
   "execution_count": 28,
   "id": "7c785a63-f2ea-4da6-b005-c8e21acca0db",
   "metadata": {},
   "outputs": [],
   "source": [
    "df['metrics/precision(B)_norm']=df['metrics/precision(B)']/df['metrics/precision(B)'].min()\n",
    "df['metrics/recall(B)_norm']=df['metrics/recall(B)']/df['metrics/recall(B)'].min()\n",
    "df['metrics/mAP50(B)_norm']=df['metrics/mAP50(B)']/df['metrics/mAP50(B)'].min()\n",
    "df['metrics/mAP50-95(B)_norm']=df['metrics/mAP50-95(B)']/df['metrics/mAP50-95(B)'].min()"
   ]
  },
  {
   "cell_type": "code",
   "execution_count": 29,
   "id": "59d77d5e-b2f4-4314-bb3d-b238ee492771",
   "metadata": {},
   "outputs": [
    {
     "data": {
      "text/html": [
       "<div>\n",
       "<style scoped>\n",
       "    .dataframe tbody tr th:only-of-type {\n",
       "        vertical-align: middle;\n",
       "    }\n",
       "\n",
       "    .dataframe tbody tr th {\n",
       "        vertical-align: top;\n",
       "    }\n",
       "\n",
       "    .dataframe thead th {\n",
       "        text-align: right;\n",
       "    }\n",
       "</style>\n",
       "<table border=\"1\" class=\"dataframe\">\n",
       "  <thead>\n",
       "    <tr style=\"text-align: right;\">\n",
       "      <th></th>\n",
       "      <th>model</th>\n",
       "      <th>metrics/precision(B)</th>\n",
       "      <th>metrics/recall(B)</th>\n",
       "      <th>metrics/mAP50(B)</th>\n",
       "      <th>metrics/mAP50-95(B)</th>\n",
       "      <th>time</th>\n",
       "      <th>norm_time</th>\n",
       "      <th>metrics/precision(B)_norm</th>\n",
       "      <th>metrics/recall(B)_norm</th>\n",
       "      <th>metrics/mAP50(B)_norm</th>\n",
       "      <th>metrics/mAP50-95(B)_norm</th>\n",
       "    </tr>\n",
       "  </thead>\n",
       "  <tbody>\n",
       "    <tr>\n",
       "      <th>0</th>\n",
       "      <td>torch</td>\n",
       "      <td>0.619810</td>\n",
       "      <td>0.436514</td>\n",
       "      <td>0.506129</td>\n",
       "      <td>0.353711</td>\n",
       "      <td>652432</td>\n",
       "      <td>0.819392</td>\n",
       "      <td>1.033923</td>\n",
       "      <td>1.233787</td>\n",
       "      <td>1.291715</td>\n",
       "      <td>1.317634</td>\n",
       "    </tr>\n",
       "    <tr>\n",
       "      <th>1</th>\n",
       "      <td>dq</td>\n",
       "      <td>0.599474</td>\n",
       "      <td>0.403165</td>\n",
       "      <td>0.476198</td>\n",
       "      <td>0.332022</td>\n",
       "      <td>796239</td>\n",
       "      <td>1.000000</td>\n",
       "      <td>1.000000</td>\n",
       "      <td>1.139528</td>\n",
       "      <td>1.215327</td>\n",
       "      <td>1.236839</td>\n",
       "    </tr>\n",
       "    <tr>\n",
       "      <th>2</th>\n",
       "      <td>qat</td>\n",
       "      <td>0.646825</td>\n",
       "      <td>0.353800</td>\n",
       "      <td>0.391827</td>\n",
       "      <td>0.268444</td>\n",
       "      <td>324608</td>\n",
       "      <td>0.407677</td>\n",
       "      <td>1.078988</td>\n",
       "      <td>1.000000</td>\n",
       "      <td>1.000000</td>\n",
       "      <td>1.000000</td>\n",
       "    </tr>\n",
       "    <tr>\n",
       "      <th>3</th>\n",
       "      <td>sq</td>\n",
       "      <td>0.719761</td>\n",
       "      <td>0.359985</td>\n",
       "      <td>0.480005</td>\n",
       "      <td>0.333922</td>\n",
       "      <td>727462</td>\n",
       "      <td>0.913623</td>\n",
       "      <td>1.200654</td>\n",
       "      <td>1.017482</td>\n",
       "      <td>1.225043</td>\n",
       "      <td>1.243917</td>\n",
       "    </tr>\n",
       "  </tbody>\n",
       "</table>\n",
       "</div>"
      ],
      "text/plain": [
       "   model  metrics/precision(B)  metrics/recall(B)  metrics/mAP50(B)  \\\n",
       "0  torch              0.619810           0.436514          0.506129   \n",
       "1     dq              0.599474           0.403165          0.476198   \n",
       "2    qat              0.646825           0.353800          0.391827   \n",
       "3     sq              0.719761           0.359985          0.480005   \n",
       "\n",
       "   metrics/mAP50-95(B)    time  norm_time  metrics/precision(B)_norm  \\\n",
       "0             0.353711  652432   0.819392                   1.033923   \n",
       "1             0.332022  796239   1.000000                   1.000000   \n",
       "2             0.268444  324608   0.407677                   1.078988   \n",
       "3             0.333922  727462   0.913623                   1.200654   \n",
       "\n",
       "   metrics/recall(B)_norm  metrics/mAP50(B)_norm  metrics/mAP50-95(B)_norm  \n",
       "0                1.233787               1.291715                  1.317634  \n",
       "1                1.139528               1.215327                  1.236839  \n",
       "2                1.000000               1.000000                  1.000000  \n",
       "3                1.017482               1.225043                  1.243917  "
      ]
     },
     "execution_count": 29,
     "metadata": {},
     "output_type": "execute_result"
    }
   ],
   "source": [
    "df"
   ]
  },
  {
   "cell_type": "code",
   "execution_count": 45,
   "id": "180e7f1b-93a9-427c-8268-93b9d8d6239b",
   "metadata": {},
   "outputs": [],
   "source": [
    "t_open = test(model_open_vino,1)"
   ]
  },
  {
   "cell_type": "code",
   "execution_count": 48,
   "id": "cc8cbf35-dfea-4da7-b87e-d818562ddf81",
   "metadata": {},
   "outputs": [
    {
     "data": {
      "text/plain": [
       "datetime.timedelta(microseconds=525543)"
      ]
     },
     "execution_count": 48,
     "metadata": {},
     "output_type": "execute_result"
    }
   ],
   "source": [
    "t_open"
   ]
  },
  {
   "cell_type": "code",
   "execution_count": null,
   "id": "25ca09dd-08b6-4de4-8be5-326e071bdd6b",
   "metadata": {},
   "outputs": [],
   "source": []
  }
 ],
 "metadata": {
  "kernelspec": {
   "display_name": "venv",
   "language": "python",
   "name": "venv"
  },
  "language_info": {
   "codemirror_mode": {
    "name": "ipython",
    "version": 3
   },
   "file_extension": ".py",
   "mimetype": "text/x-python",
   "name": "python",
   "nbconvert_exporter": "python",
   "pygments_lexer": "ipython3",
   "version": "3.12.7"
  }
 },
 "nbformat": 4,
 "nbformat_minor": 5
}
